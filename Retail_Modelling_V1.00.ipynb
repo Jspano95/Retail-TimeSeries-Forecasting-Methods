{
 "cells": [
  {
   "cell_type": "markdown",
   "metadata": {},
   "source": [
    "# TABLE OF CONTENTS: \n",
    "\n",
    "\n",
    "* [Data Import & Cleaning](#data_load_and_clean)\n",
    "* [Data Preparation & Dummy Variable Creation](#exog_var)\n",
    "* [Breakpoint Subsampling Split for Training/Test Sets](#sub_sampling)\n",
    "* [Initial Data Exploration: ACF / PACF](#initial_data_exploration)\n",
    "* [Forecasting Overview](#forecasting_intro)\n",
    "    * [Naive Mean (Baseline)](#naive_forecast)\n",
    "    * [Walk-Forward SARIMAX](#sarimax)\n",
    "    * [Static SARIMAX Forecast](#static_sarimax)\n",
    "    * [TBATS](#tbats)\n",
    "    * [XGBoost](#xgboost)\n",
    "        * [Feature Engineering](#feature_engineering)\n",
    "        * [XGBoost Parameter Tuning Guide & Process](#xgboost_param_tuning)\n",
    "    * [Final Results: XGBoost Features Breakdown & Final Models Comparisons and Conclusion](#xgboost_shap)"
   ]
  },
  {
   "cell_type": "code",
   "execution_count": null,
   "metadata": {},
   "outputs": [],
   "source": []
  },
  {
   "cell_type": "markdown",
   "metadata": {},
   "source": [
    "### BUSINESS PROBLEM / PURPOSE OF THIS PROJECT \n",
    "\n",
    "* Because purchase budgets are contingent on the sales forecast (calculated as COGS benchmarks) at the end of each month for the proceding month, the sales forecasts are running 4w static forecasts. This means that the next month's sales (forecasted by week) must be forecasted in advance and cannot be iteratively updated (walk-forward predictions). This problem has been further exacerbated by COVID creating a sort of paradigm shift in supermarket trends\n",
    "    * Thus, sales (and hence, expense budgets) must be confirmed on a rolling 1M (~4W) basis\n",
    "    * The overarching challenge is to create a robust 1M static forecast method, from which the relative department COGS benchmarks can be applied and purchasing budgets can be distributed in advance to stores on a rolling 1 month basis\n",
    "        * overly optimistic sales forecasts result in high budgets, inventory ballooning and potentially lower bottom-line GP/NP through higher shrinkage\n",
    "        * overly pessimistic forecasts could result in inventory gaps which result in less sales, and less GP/NP as a result\n",
    "  \n",
    "\n",
    "#### THE DATA ... \n",
    "* Roughly 3Y of daily sales data\n",
    "    * includes items by day, baskets (# transactions), average spend per customers, marked-down sales, promotional sales\n",
    "    \n",
    "### PROJECT FLOW \n",
    "* Data cleaning (for privacy concerns, the name of the store and other sensitive information has been censored) \n",
    "* Create Data Features: \n",
    "    * Create dummy variables to mark public holidays (automatically achieved by use of a package called \"holidays\" and specialised to the QLD region\n",
    "    * Acknowledge the impact of COVID occuring half-way through the sample. Statistically determine the data's breakpoint (noted by a drastic change in trend to reflect customer's new shopping habits)- use this knowledge to further restrict the time horizon of the sample to maintain representativeness\n",
    "    * Add additional time series features in the XGboost section, including: day of the week, week of the year\n",
    "        * Also experiment with a \"days since last public holiday\" and \"days until\" time series feature, but it was ultimately found to be insignificant. \n",
    "* Split the now restricted post structural break data into test-train split to match the business problem (4W static forecast)\n",
    "* Initial Data Exploration:\n",
    "    * View some time series characteristics of the data which can help inform the SARIMAX / TBATS models\n",
    "    * ACF / PACF etc.\n",
    "\n",
    "##### MODELS\n",
    "* Baseline (Naive Forecast) (~ 10% MAPE)\n",
    "* Walk-forward SARIMAX Vs. Static SARIMAX (~ 3.56% MAPE)\n",
    "    * Automate the procedure of optimisting the BIC for selecting the length of the (AR, MA, SAR, SMA) terms in the SARIMAX model; whereby, X = holiday_dummy variable\n",
    "    * Note: the walk-forward procedure only beat the static SARIMAX procedure MAPE by (0.08%)\n",
    "* TBATS forecast (~ 7.56% MAPE) with seasonality informed from the ACF/PACF plots\n",
    "* XGBoost - lengthy parameter tuning and refinement process to settle on the final model iteration which achieved (~2.99% MAPE)\n",
    "    * Present an analysis on the significance of each feature in the XGboost model \n",
    "\n",
    "##### PRESENT A FINAL MODEL COMPARISON AND GRAPHICAL BREAKDOWN \n",
    "* Generally the static sarimax is presented as performing surprisingly well given its ease of implementation and relative simplicity to the XGBoost\n",
    "* XGboost performd the best, but the trade-off is computational time and complexity\n",
    "\n",
    "### FUTURE PROJECT DEVELOPMENT:\n",
    "* Increase the forecast horizon from 1M to 3M and recalibrate the models to determine if the SARIMAX still performs reasonably well Vs. the more complicated XGBoost model"
   ]
  },
  {
   "cell_type": "code",
   "execution_count": null,
   "metadata": {},
   "outputs": [],
   "source": []
  },
  {
   "cell_type": "markdown",
   "metadata": {},
   "source": [
    "## FINAL MODEL RESULTS PREVIEW:"
   ]
  },
  {
   "cell_type": "code",
   "execution_count": 250,
   "metadata": {},
   "outputs": [
    {
     "data": {
      "image/png": "[encoded data removed]",
      "text/plain": [
       "<Figure size 504x288 with 1 Axes>"
      ]
     },
     "metadata": {},
     "output_type": "display_data"
    }
   ],
   "source": [
    "# show values in bar graph \n",
    "plt.figure(figsize=(7, 4))\n",
    "keys = model_results_dict.keys()\n",
    "values = model_results_dict.values()\n",
    "plt.bar(keys, values)\n",
    "plt.xticks(rotation='35')\n",
    "plt.title(\"Time Series Forecasting Model MAPE (%) Comparison Over 4W Sample\");\n",
    "# note: MAPE = lower is better "
   ]
  },
  {
   "cell_type": "code",
   "execution_count": null,
   "metadata": {},
   "outputs": [],
   "source": []
  },
  {
   "cell_type": "code",
   "execution_count": null,
   "metadata": {},
   "outputs": [],
   "source": []
  },
  {
   "cell_type": "code",
   "execution_count": null,
   "metadata": {},
   "outputs": [],
   "source": []
  },
  {
   "cell_type": "markdown",
   "metadata": {},
   "source": [
    "## PACKAGES TO IMPORT\n",
    "* Note: the XGBoost and other model sections require some additional package imports at the tops of their respective sections"
   ]
  },
  {
   "cell_type": "code",
   "execution_count": 2,
   "metadata": {},
   "outputs": [],
   "source": [
    "## import packages ## \n",
    "import warnings\n",
    "import sys\n",
    "if not sys.warnoptions:\n",
    "    warnings.filterwarnings(\"ignore\")  "
   ]
  },
  {
   "cell_type": "code",
   "execution_count": 3,
   "metadata": {},
   "outputs": [],
   "source": [
    "# core packages\n",
    "import numpy as np \n",
    "import pandas as pd\n",
    "import datetime\n",
    "from datetime import date, timedelta, datetime\n",
    "\n",
    "## graphing packages ## \n",
    "import matplotlib.pyplot as plt\n",
    "import seaborn as sns\n",
    "%matplotlib inline"
   ]
  },
  {
   "cell_type": "code",
   "execution_count": 4,
   "metadata": {},
   "outputs": [],
   "source": [
    "from statsmodels.tsa.stattools import zivot_andrews\n",
    "from sklearn.metrics import mean_squared_error, mean_absolute_error, mean_absolute_percentage_error\n",
    "from arch.unitroot import DFGLS\n",
    "\n",
    "# import a common error for the sarimax models \n",
    "from numpy.linalg import LinAlgError\n",
    "#from statsmodels.tools.sm_exceptions import ValueWarning"
   ]
  },
  {
   "cell_type": "code",
   "execution_count": 5,
   "metadata": {},
   "outputs": [],
   "source": [
    "## optional packages / display preferences ##\n",
    "pd.options.display.float_format = \"{:,.2f}\".format\n",
    "np.set_printoptions(precision=2)\n",
    "\n",
    "from IPython.display import display\n",
    "pd.options.display.max_columns = 60  \n",
    "plt.style.use('seaborn')"
   ]
  },
  {
   "cell_type": "code",
   "execution_count": null,
   "metadata": {},
   "outputs": [],
   "source": []
  },
  {
   "cell_type": "code",
   "execution_count": null,
   "metadata": {},
   "outputs": [],
   "source": []
  },
  {
   "cell_type": "markdown",
   "metadata": {},
   "source": [
    "<a id='data_load_and_clean'></a>\n",
    "\n",
    "## LOAD THE DATA FROM EXCEL (XLSX) FILE\n",
    "* Data includes at a store-level, on a daily basis: \n",
    "    * Sales / GP / Promo Sales \n",
    "    * Baskets (# of transactions) and average basket \n",
    "    * Recorded Waste / Markdowns / Cost adjustments (internal stock adjustments E.G. theft, IT errors etc.)\n",
    "    * number of items sold / number of items sold at normal price / number sold on a promo price\n",
    "    * Loyalty Sales (purchases made by someone using a loyalty card)\n",
    "    * GST "
   ]
  },
  {
   "cell_type": "code",
   "execution_count": 21,
   "metadata": {},
   "outputs": [],
   "source": [
    "# import xlsx file\n",
    "daily_data_df = pd.read_excel(r'daily_aggsales_baskets_promoqty_gst.xlsx')"
   ]
  },
  {
   "cell_type": "code",
   "execution_count": 23,
   "metadata": {},
   "outputs": [],
   "source": [
    "# === NOTE === # \n",
    "# to protect the anonymity of the data, the actual store_name has been replaced with a code word\n",
    "# this store name has been hidden below, replaced by the string \"####\"\n",
    "daily_data_df['Store'] = daily_data_df['Store'].replace(\"####\", \"MW\")"
   ]
  },
  {
   "cell_type": "code",
   "execution_count": 25,
   "metadata": {},
   "outputs": [
    {
     "data": {
      "text/html": [
       "<div>\n",
       "<style scoped>\n",
       "    .dataframe tbody tr th:only-of-type {\n",
       "        vertical-align: middle;\n",
       "    }\n",
       "\n",
       "    .dataframe tbody tr th {\n",
       "        vertical-align: top;\n",
       "    }\n",
       "\n",
       "    .dataframe thead th {\n",
       "        text-align: right;\n",
       "    }\n",
       "</style>\n",
       "<table border=\"1\" class=\"dataframe\">\n",
       "  <thead>\n",
       "    <tr style=\"text-align: right;\">\n",
       "      <th></th>\n",
       "      <th>Store</th>\n",
       "      <th>Sales $</th>\n",
       "      <th>GP $</th>\n",
       "      <th>Promo Sales $</th>\n",
       "      <th>Promo Sales %</th>\n",
       "      <th>Baskets</th>\n",
       "      <th>Avg Basket $</th>\n",
       "      <th>Waste$</th>\n",
       "      <th>Markdown$</th>\n",
       "      <th>Items</th>\n",
       "      <th>Normal Qty</th>\n",
       "      <th>Promo Qty</th>\n",
       "      <th>Loyalty Sales $</th>\n",
       "      <th>Cost Adjustment$</th>\n",
       "      <th>GST $</th>\n",
       "      <th>DATEALTERNATEKEY</th>\n",
       "    </tr>\n",
       "  </thead>\n",
       "  <tbody>\n",
       "    <tr>\n",
       "      <th>0</th>\n",
       "      <td>MW</td>\n",
       "      <td>23,935.00</td>\n",
       "      <td>5,185.96</td>\n",
       "      <td>10,006.91</td>\n",
       "      <td>0.42</td>\n",
       "      <td>1251</td>\n",
       "      <td>19.13</td>\n",
       "      <td>78.27</td>\n",
       "      <td>138.66</td>\n",
       "      <td>4822</td>\n",
       "      <td>2,912.33</td>\n",
       "      <td>1,703.68</td>\n",
       "      <td>563.81</td>\n",
       "      <td>688.07</td>\n",
       "      <td>1,204.91</td>\n",
       "      <td>2019-01-01</td>\n",
       "    </tr>\n",
       "    <tr>\n",
       "      <th>1</th>\n",
       "      <td>MW</td>\n",
       "      <td>23,143.62</td>\n",
       "      <td>5,040.71</td>\n",
       "      <td>8,577.01</td>\n",
       "      <td>0.37</td>\n",
       "      <td>1249</td>\n",
       "      <td>18.53</td>\n",
       "      <td>631.34</td>\n",
       "      <td>52.22</td>\n",
       "      <td>4593</td>\n",
       "      <td>2,900.68</td>\n",
       "      <td>1,361.61</td>\n",
       "      <td>455.57</td>\n",
       "      <td>-1,957.71</td>\n",
       "      <td>1,178.69</td>\n",
       "      <td>2019-01-02</td>\n",
       "    </tr>\n",
       "    <tr>\n",
       "      <th>2</th>\n",
       "      <td>MW</td>\n",
       "      <td>25,507.01</td>\n",
       "      <td>4,930.69</td>\n",
       "      <td>8,092.75</td>\n",
       "      <td>0.32</td>\n",
       "      <td>1319</td>\n",
       "      <td>19.34</td>\n",
       "      <td>136.37</td>\n",
       "      <td>92.87</td>\n",
       "      <td>4416</td>\n",
       "      <td>2,822.38</td>\n",
       "      <td>1,325.85</td>\n",
       "      <td>405.81</td>\n",
       "      <td>57.36</td>\n",
       "      <td>1,145.91</td>\n",
       "      <td>2019-01-03</td>\n",
       "    </tr>\n",
       "    <tr>\n",
       "      <th>3</th>\n",
       "      <td>MW</td>\n",
       "      <td>25,124.87</td>\n",
       "      <td>5,199.56</td>\n",
       "      <td>11,219.92</td>\n",
       "      <td>0.45</td>\n",
       "      <td>1276</td>\n",
       "      <td>19.69</td>\n",
       "      <td>54.79</td>\n",
       "      <td>101.97</td>\n",
       "      <td>4721</td>\n",
       "      <td>2,806.18</td>\n",
       "      <td>1,704.90</td>\n",
       "      <td>732.95</td>\n",
       "      <td>1,636.20</td>\n",
       "      <td>1,352.07</td>\n",
       "      <td>2019-01-04</td>\n",
       "    </tr>\n",
       "    <tr>\n",
       "      <th>4</th>\n",
       "      <td>MW</td>\n",
       "      <td>25,241.23</td>\n",
       "      <td>5,437.24</td>\n",
       "      <td>10,073.29</td>\n",
       "      <td>0.40</td>\n",
       "      <td>1328</td>\n",
       "      <td>19.01</td>\n",
       "      <td>66.59</td>\n",
       "      <td>58.32</td>\n",
       "      <td>4844</td>\n",
       "      <td>2,866.64</td>\n",
       "      <td>1,698.61</td>\n",
       "      <td>284.96</td>\n",
       "      <td>-155.23</td>\n",
       "      <td>1,295.07</td>\n",
       "      <td>2019-01-05</td>\n",
       "    </tr>\n",
       "  </tbody>\n",
       "</table>\n",
       "</div>"
      ],
      "text/plain": [
       "  Store   Sales $     GP $  Promo Sales $  Promo Sales %  Baskets  \\\n",
       "0    MW 23,935.00 5,185.96      10,006.91           0.42     1251   \n",
       "1    MW 23,143.62 5,040.71       8,577.01           0.37     1249   \n",
       "2    MW 25,507.01 4,930.69       8,092.75           0.32     1319   \n",
       "3    MW 25,124.87 5,199.56      11,219.92           0.45     1276   \n",
       "4    MW 25,241.23 5,437.24      10,073.29           0.40     1328   \n",
       "\n",
       "   Avg Basket $  Waste$  Markdown$  Items  Normal Qty  Promo Qty  \\\n",
       "0         19.13   78.27     138.66   4822    2,912.33   1,703.68   \n",
       "1         18.53  631.34      52.22   4593    2,900.68   1,361.61   \n",
       "2         19.34  136.37      92.87   4416    2,822.38   1,325.85   \n",
       "3         19.69   54.79     101.97   4721    2,806.18   1,704.90   \n",
       "4         19.01   66.59      58.32   4844    2,866.64   1,698.61   \n",
       "\n",
       "   Loyalty Sales $  Cost Adjustment$    GST $ DATEALTERNATEKEY  \n",
       "0           563.81            688.07 1,204.91       2019-01-01  \n",
       "1           455.57         -1,957.71 1,178.69       2019-01-02  \n",
       "2           405.81             57.36 1,145.91       2019-01-03  \n",
       "3           732.95          1,636.20 1,352.07       2019-01-04  \n",
       "4           284.96           -155.23 1,295.07       2019-01-05  "
      ]
     },
     "execution_count": 25,
     "metadata": {},
     "output_type": "execute_result"
    }
   ],
   "source": [
    "## the final day of data must be incompletely loaded from the data-source as it's only 1/3 of a usual day; remove it\n",
    "daily_data_df = daily_data_df[:-1]\n",
    "\n",
    "# display head\n",
    "daily_data_df.head()"
   ]
  },
  {
   "cell_type": "code",
   "execution_count": null,
   "metadata": {},
   "outputs": [],
   "source": []
  },
  {
   "cell_type": "markdown",
   "metadata": {},
   "source": [
    "## DATA COLUMN NAMES CLEANING & REINDEXING DF\n",
    "* clean up the messy column names: remove the symbols / punctuation marks / whitespace and make it all lower case"
   ]
  },
  {
   "cell_type": "code",
   "execution_count": null,
   "metadata": {},
   "outputs": [],
   "source": [
    "# import regex for this step; then it is no longer needed \n",
    "import regex as re"
   ]
  },
  {
   "cell_type": "code",
   "execution_count": 21,
   "metadata": {},
   "outputs": [],
   "source": [
    "# loop over the DF's column names and replace\n",
    "for i, val in enumerate(daily_data_df.columns.values):\n",
    "    daily_data_df.columns.values[i] = re.sub('[^A-Za-z0-9]+', '', val.lower())"
   ]
  },
  {
   "cell_type": "code",
   "execution_count": 29,
   "metadata": {},
   "outputs": [],
   "source": [
    "# [optional] make a copy of it, to specify a separate named DF that indicates the date as index \n",
    "daily_data_date_df = daily_data_df.copy()\n",
    "\n",
    "# set date column as index\n",
    "daily_data_date_df = daily_data_date_df.set_index('datealternatekey')"
   ]
  },
  {
   "cell_type": "code",
   "execution_count": 29,
   "metadata": {
    "scrolled": false
   },
   "outputs": [
    {
     "data": {
      "text/html": [
       "<div>\n",
       "<style scoped>\n",
       "    .dataframe tbody tr th:only-of-type {\n",
       "        vertical-align: middle;\n",
       "    }\n",
       "\n",
       "    .dataframe tbody tr th {\n",
       "        vertical-align: top;\n",
       "    }\n",
       "\n",
       "    .dataframe thead th {\n",
       "        text-align: right;\n",
       "    }\n",
       "</style>\n",
       "<table border=\"1\" class=\"dataframe\">\n",
       "  <thead>\n",
       "    <tr style=\"text-align: right;\">\n",
       "      <th></th>\n",
       "      <th>store</th>\n",
       "      <th>sales</th>\n",
       "      <th>gp</th>\n",
       "      <th>promosales</th>\n",
       "      <th>promosales</th>\n",
       "      <th>baskets</th>\n",
       "      <th>avgbasket</th>\n",
       "      <th>waste</th>\n",
       "      <th>markdown</th>\n",
       "      <th>items</th>\n",
       "      <th>normalqty</th>\n",
       "      <th>promoqty</th>\n",
       "      <th>loyaltysales</th>\n",
       "      <th>costadjustment</th>\n",
       "      <th>gst</th>\n",
       "      <th>publichol</th>\n",
       "    </tr>\n",
       "    <tr>\n",
       "      <th>datealternatekey</th>\n",
       "      <th></th>\n",
       "      <th></th>\n",
       "      <th></th>\n",
       "      <th></th>\n",
       "      <th></th>\n",
       "      <th></th>\n",
       "      <th></th>\n",
       "      <th></th>\n",
       "      <th></th>\n",
       "      <th></th>\n",
       "      <th></th>\n",
       "      <th></th>\n",
       "      <th></th>\n",
       "      <th></th>\n",
       "      <th></th>\n",
       "      <th></th>\n",
       "    </tr>\n",
       "  </thead>\n",
       "  <tbody>\n",
       "    <tr>\n",
       "      <th>2019-01-01</th>\n",
       "      <td>MW</td>\n",
       "      <td>23,935.00</td>\n",
       "      <td>5,185.96</td>\n",
       "      <td>10,006.91</td>\n",
       "      <td>0.42</td>\n",
       "      <td>1251</td>\n",
       "      <td>19.13</td>\n",
       "      <td>78.27</td>\n",
       "      <td>138.66</td>\n",
       "      <td>4822</td>\n",
       "      <td>2,912.33</td>\n",
       "      <td>1,703.68</td>\n",
       "      <td>563.81</td>\n",
       "      <td>688.07</td>\n",
       "      <td>1,204.91</td>\n",
       "      <td>1</td>\n",
       "    </tr>\n",
       "    <tr>\n",
       "      <th>2019-01-02</th>\n",
       "      <td>MW</td>\n",
       "      <td>23,143.62</td>\n",
       "      <td>5,040.71</td>\n",
       "      <td>8,577.01</td>\n",
       "      <td>0.37</td>\n",
       "      <td>1249</td>\n",
       "      <td>18.53</td>\n",
       "      <td>631.34</td>\n",
       "      <td>52.22</td>\n",
       "      <td>4593</td>\n",
       "      <td>2,900.68</td>\n",
       "      <td>1,361.61</td>\n",
       "      <td>455.57</td>\n",
       "      <td>-1,957.71</td>\n",
       "      <td>1,178.69</td>\n",
       "      <td>0</td>\n",
       "    </tr>\n",
       "  </tbody>\n",
       "</table>\n",
       "</div>"
      ],
      "text/plain": [
       "                 store     sales       gp  promosales  promosales  baskets  \\\n",
       "datealternatekey                                                             \n",
       "2019-01-01          MW 23,935.00 5,185.96   10,006.91        0.42     1251   \n",
       "2019-01-02          MW 23,143.62 5,040.71    8,577.01        0.37     1249   \n",
       "\n",
       "                  avgbasket  waste  markdown  items  normalqty  promoqty  \\\n",
       "datealternatekey                                                           \n",
       "2019-01-01            19.13  78.27    138.66   4822   2,912.33  1,703.68   \n",
       "2019-01-02            18.53 631.34     52.22   4593   2,900.68  1,361.61   \n",
       "\n",
       "                  loyaltysales  costadjustment      gst  publichol  \n",
       "datealternatekey                                                    \n",
       "2019-01-01              563.81          688.07 1,204.91          1  \n",
       "2019-01-02              455.57       -1,957.71 1,178.69          0  "
      ]
     },
     "execution_count": 29,
     "metadata": {},
     "output_type": "execute_result"
    }
   ],
   "source": [
    "# E.G. cleaned column names & datetime index\n",
    "daily_data_date_df.head(2)"
   ]
  },
  {
   "cell_type": "code",
   "execution_count": null,
   "metadata": {},
   "outputs": [],
   "source": []
  },
  {
   "cell_type": "code",
   "execution_count": null,
   "metadata": {},
   "outputs": [],
   "source": []
  },
  {
   "cell_type": "markdown",
   "metadata": {},
   "source": [
    "<a id='exog_var'></a>\n",
    "\n",
    "## DETECT PUBLIC-HOLIDAYS & CREATE A DUMMY VARIABLE INDICATOR\n",
    "* For example, mark particularly busy days such as Labour Day, so feed into the time series models as an exogenous variable later"
   ]
  },
  {
   "cell_type": "code",
   "execution_count": null,
   "metadata": {},
   "outputs": [],
   "source": [
    "# import special library for holidays: / may require pip install \n",
    "import holidays"
   ]
  },
  {
   "cell_type": "code",
   "execution_count": 12,
   "metadata": {},
   "outputs": [],
   "source": [
    "# initalise an instance of Australia-Queensland specific regional holidays\n",
    "aus_qld_holidays = holidays.CountryHoliday('AUS', prov='QLD')"
   ]
  },
  {
   "cell_type": "code",
   "execution_count": 13,
   "metadata": {},
   "outputs": [],
   "source": [
    "## append some custom holidays or holiday phenomena unique this retail business\n",
    "# E.G. The day before mothers day is busy, mothers day itself is not so much > etc. \n",
    "aus_qld_holidays.append({\"2019-05-11\": \"Mothers Day Eve\",\n",
    "                         \"2019-12-23\": \"Pre Xmas Eve\",\n",
    "                         \"2029-12-24\": \"Christmas Eve\",\n",
    "                        \"2020-12-24\" : \"Christmas Eve\",\n",
    "                        \"2020-12-23\" : \"Pre Xmas Eve\",\n",
    "                        \"2020-05-09\" : \"Mothers Day Eve\",\n",
    "                        \"2021-05-08\" : \"Mothers Day Eve\",\n",
    "                        \"2021-12-23\" : \"Pre Xmas Eve\",\n",
    "                        \"2021-12-24\" : \"Christmas Eve\"})"
   ]
  },
  {
   "cell_type": "code",
   "execution_count": 15,
   "metadata": {},
   "outputs": [],
   "source": [
    "# print out a visualisation of each holiday per year in the sample period \n",
    "unique_holidays = []\n",
    "\n",
    "for i in daily_data_date_df.index: #daily_data_date_df['datealternatekey']:\n",
    "    if aus_qld_holidays.get(i) is not None:\n",
    "        unique_hol = str(aus_qld_holidays.get(i)) + \", \" + str(i.year)\n",
    "        unique_holidays.append(unique_hol)"
   ]
  },
  {
   "cell_type": "code",
   "execution_count": 16,
   "metadata": {},
   "outputs": [
    {
     "data": {
      "text/plain": [
       "[\"New Year's Day, 2019\",\n",
       " 'Australia Day, 2019',\n",
       " 'Australia Day (Observed), 2019',\n",
       " 'Good Friday, 2019',\n",
       " 'Easter Saturday, 2019',\n",
       " 'Easter Sunday, 2019',\n",
       " 'Easter Monday, 2019',\n",
       " 'Anzac Day, 2019',\n",
       " 'Labour Day, 2019',\n",
       " 'Mothers Day Eve, 2019',\n",
       " 'The Royal Queensland Show, 2019',\n",
       " \"Queen's Birthday, 2019\",\n",
       " 'Pre Xmas Eve, 2019',\n",
       " 'Christmas Day, 2019',\n",
       " 'Boxing Day, 2019',\n",
       " \"New Year's Day, 2020\",\n",
       " 'Australia Day, 2020',\n",
       " 'Australia Day (Observed), 2020',\n",
       " 'Good Friday, 2020',\n",
       " 'Easter Saturday, 2020',\n",
       " 'Easter Sunday, 2020',\n",
       " 'Easter Monday, 2020',\n",
       " 'Anzac Day, 2020',\n",
       " 'Labour Day, 2020',\n",
       " 'Mothers Day Eve, 2020',\n",
       " 'The Royal Queensland Show, 2020',\n",
       " \"Queen's Birthday, 2020\",\n",
       " 'Pre Xmas Eve, 2020',\n",
       " 'Christmas Eve, 2020',\n",
       " 'Christmas Day, 2020',\n",
       " 'Boxing Day, 2020',\n",
       " 'Boxing Day (Observed), 2020',\n",
       " \"New Year's Day, 2021\",\n",
       " 'Australia Day, 2021']"
      ]
     },
     "execution_count": 16,
     "metadata": {},
     "output_type": "execute_result"
    }
   ],
   "source": [
    "# E.G. of holidays present in sample\n",
    "unique_holidays"
   ]
  },
  {
   "cell_type": "code",
   "execution_count": null,
   "metadata": {},
   "outputs": [],
   "source": []
  },
  {
   "cell_type": "code",
   "execution_count": null,
   "metadata": {},
   "outputs": [],
   "source": []
  },
  {
   "cell_type": "markdown",
   "metadata": {},
   "source": [
    "## INITIALISE A DUMMY-VARIABLE TO MARK PUBLIC HOLIDAYS\n"
   ]
  },
  {
   "cell_type": "code",
   "execution_count": 17,
   "metadata": {},
   "outputs": [],
   "source": [
    "# set a row's \"public_hol\" value to (1) if that day was a holiday, otherwise set it (0)\n",
    "daily_data_date_df['publichol'] = [int(1) if aus_qld_holidays.get(i) is not None else int(0) for i in daily_data_date_df.index] "
   ]
  },
  {
   "cell_type": "code",
   "execution_count": null,
   "metadata": {},
   "outputs": [],
   "source": [
    "# optional: March 17th 2020; COVID lockdown announcement - could manually insert an additional holiday marker for this event\n",
    "#daily_postbp_df.loc['2020-03-17', 'publichol'] = 1"
   ]
  },
  {
   "cell_type": "code",
   "execution_count": null,
   "metadata": {},
   "outputs": [],
   "source": []
  },
  {
   "cell_type": "markdown",
   "metadata": {},
   "source": [
    "## CREATE OUT-OF-SAMPLE (OOS) DATE + HOLIDAY DUMMY-VARIABLE\n",
    "* Extend the most recent in-sample date by 365 days (which is longer than the forecast will actually be, but this just gives flexibility to adjust forecasts lengths at will in subsequent steps)\n",
    "\n",
    "#### OOS - NOT USED IN THIS NOTEBOOK \n",
    "* Will be forked from this for a future notebook experiment"
   ]
  },
  {
   "cell_type": "code",
   "execution_count": 22,
   "metadata": {},
   "outputs": [],
   "source": [
    "# reset the index to make the datetime index offsets easier \n",
    "daily_data_date_df_reset = daily_data_date_df.reset_index()"
   ]
  },
  {
   "cell_type": "code",
   "execution_count": 23,
   "metadata": {},
   "outputs": [],
   "source": [
    "## define an extended series for inputting future dummy variables in the forecasts\n",
    "\n",
    "#start_date = pd.DatetimeIndex(daily_data_df['datealternatekey'][:1])\n",
    "\n",
    "start_date = pd.DatetimeIndex(daily_data_date_df_reset['datealternatekey']).max() + pd.DateOffset(1)\n",
    "end_date = pd.DatetimeIndex(daily_data_date_df_reset['datealternatekey'][-1:] + pd.DateOffset(365))\n",
    "\n",
    "extended_date = pd.date_range(start_date, end_date.max())\n",
    "## now start/end of series is 2021-03-24 to 2022-03-23"
   ]
  },
  {
   "cell_type": "code",
   "execution_count": 24,
   "metadata": {},
   "outputs": [],
   "source": [
    "# convert series to DF to make it easier to pass into the subsequent time series models as an exog with matching indexes\n",
    "extended_date_df = pd.DataFrame(data=(extended_date), columns=['date'])"
   ]
  },
  {
   "cell_type": "code",
   "execution_count": 25,
   "metadata": {},
   "outputs": [],
   "source": [
    "# apply the same dummy-variable principle as above\n",
    "extended_date_df['publichol_x'] = [int(1) if aus_qld_holidays.get(i) is not None else int(0) for i in extended_date] \n",
    "\n",
    "# set date as the index\n",
    "extended_date_df = extended_date_df.set_index('date')"
   ]
  },
  {
   "cell_type": "code",
   "execution_count": 26,
   "metadata": {},
   "outputs": [],
   "source": [
    "# pickle DF object (optional)\n",
    "extended_date_df.to_pickle(\"./extended_date_df.pkl\")\n",
    "##extended_date_df = pd.read_pickle(\"./extended_date_df.pkl\") "
   ]
  },
  {
   "cell_type": "code",
   "execution_count": null,
   "metadata": {},
   "outputs": [],
   "source": []
  },
  {
   "cell_type": "code",
   "execution_count": null,
   "metadata": {},
   "outputs": [],
   "source": []
  },
  {
   "cell_type": "markdown",
   "metadata": {},
   "source": [
    "## FINAL DF INFO CHECK\n",
    "* Check there are no NaN / Missing Values etc. before loading the models"
   ]
  },
  {
   "cell_type": "code",
   "execution_count": 39,
   "metadata": {},
   "outputs": [
    {
     "name": "stdout",
     "output_type": "stream",
     "text": [
      "<class 'pandas.core.frame.DataFrame'>\n",
      "DatetimeIndex: 813 entries, 2019-01-01 to 2021-03-23\n",
      "Data columns (total 16 columns):\n",
      " #   Column          Non-Null Count  Dtype  \n",
      "---  ------          --------------  -----  \n",
      " 0   store           813 non-null    object \n",
      " 1   sales           813 non-null    float64\n",
      " 2   gp              813 non-null    float64\n",
      " 3   promosales      813 non-null    float64\n",
      " 4   promosales      813 non-null    float64\n",
      " 5   baskets         813 non-null    int64  \n",
      " 6   avgbasket       813 non-null    float64\n",
      " 7   waste           807 non-null    float64\n",
      " 8   markdown        813 non-null    float64\n",
      " 9   items           813 non-null    int64  \n",
      " 10  normalqty       813 non-null    float64\n",
      " 11  promoqty        813 non-null    float64\n",
      " 12  loyaltysales    813 non-null    float64\n",
      " 13  costadjustment  811 non-null    float64\n",
      " 14  gst             813 non-null    float64\n",
      " 15  publichol       813 non-null    int64  \n",
      "dtypes: float64(12), int64(3), object(1)\n",
      "memory usage: 108.0+ KB\n"
     ]
    }
   ],
   "source": [
    "daily_data_date_df.info()"
   ]
  },
  {
   "cell_type": "code",
   "execution_count": null,
   "metadata": {},
   "outputs": [],
   "source": [
    "# No NaNs; data looks good thus far. Else, most reasonable course is to drop Nan(s) depending on volume"
   ]
  },
  {
   "cell_type": "code",
   "execution_count": null,
   "metadata": {},
   "outputs": [],
   "source": []
  },
  {
   "cell_type": "code",
   "execution_count": null,
   "metadata": {},
   "outputs": [],
   "source": []
  },
  {
   "cell_type": "markdown",
   "metadata": {},
   "source": [
    "<a id='sub_sampling'></a>\n",
    "\n",
    "## SELECTING THE RIGHT TRAINING / TEST SPLIT SUB-SAMPLE\n",
    "* Issues arise over a regime shift which occured around the time of covid, let's see if we can analytically pin point this time\n",
    "* We know QLD state formerly announced a lockdown around March 20, 2020. "
   ]
  },
  {
   "cell_type": "code",
   "execution_count": 166,
   "metadata": {},
   "outputs": [],
   "source": [
    "# [optional] import pickle if needed\n",
    "daily_data_date_df = pd.read_pickle(\"./daily_data_date_df.pkl\") "
   ]
  },
  {
   "cell_type": "code",
   "execution_count": 167,
   "metadata": {},
   "outputs": [],
   "source": [
    "# calculate the breakpoint \n",
    "zivot_andrews_bp_sales = zivot_andrews(daily_data_date_df.sales,\n",
    "                                            trim=0.2, maxlag=7, regression='c', autolag='t-stat')"
   ]
  },
  {
   "cell_type": "code",
   "execution_count": 168,
   "metadata": {},
   "outputs": [
    {
     "name": "stdout",
     "output_type": "stream",
     "text": [
      "calculated breakpoint date is: 2020-03-13 with corresponding test statistic: -6.89 vs. 5% CV of: -4.81067\n"
     ]
    }
   ],
   "source": [
    "# create a string version of the index location of the breakpoint (indexed by the 4th object in the ZA return dict)\n",
    "date_location_za = str(daily_data_date_df.index[zivot_andrews_bp_sales[4]])\n",
    "\n",
    "# for visual appeal, strip back the timestamp elements (00:00:00) as the smallest frequency of the data is daily\n",
    "date_location_za_strp = datetime.strptime(date_location_za, '%Y-%m-%d %H:%M:%S')\n",
    "            \n",
    "date_location_za_clean = date_location_za_strp.strftime('%Y-%m-%d')\n",
    "\n",
    "# if test_stat is < CV (more negative) reject null hypothesis = there is statistically significant breakpoint \n",
    "print(\"calculated breakpoint date is: {} with corresponding test statistic: {} vs. 5% CV of: {}\".format(\n",
    "date_location_za_clean, np.round(zivot_andrews_bp_sales[0], 2), zivot_andrews_bp_sales[2]['5%']))"
   ]
  },
  {
   "cell_type": "code",
   "execution_count": 169,
   "metadata": {},
   "outputs": [],
   "source": [
    "## split the DF and use the data post-BP\n",
    "# variable: date_location_za_clean   is from the ZivotAndrews BP calculation above \n",
    "daily_postbp_df = daily_data_date_df[daily_data_date_df.index > date_location_za_clean]"
   ]
  },
  {
   "cell_type": "code",
   "execution_count": null,
   "metadata": {},
   "outputs": [],
   "source": []
  },
  {
   "cell_type": "code",
   "execution_count": null,
   "metadata": {},
   "outputs": [],
   "source": []
  },
  {
   "cell_type": "code",
   "execution_count": 13,
   "metadata": {},
   "outputs": [
    {
     "data": {
      "image/png": "[encoded data removed]",
      "text/plain": [
       "<Figure size 864x432 with 1 Axes>"
      ]
     },
     "metadata": {
      "needs_background": "light"
     },
     "output_type": "display_data"
    }
   ],
   "source": [
    "# grab min and max of time index:\n",
    "date_min_str = str(daily_data_date_df.index.min())\n",
    "date_min_strptime = datetime.strptime(date_min_str, '%Y-%m-%d %H:%M:%S')\n",
    "date_min = date_min_strptime.strftime('%Y-%m-%d')\n",
    "\n",
    "date_max_str = str(daily_data_date_df.index.max())\n",
    "date_max_strptime = datetime.strptime(date_max_str, '%Y-%m-%d %H:%M:%S')\n",
    "date_max = date_max_strptime.strftime('%Y-%m-%d')\n",
    "\n",
    "# construct plots\n",
    "fig, ax1 = plt.subplots(1,1, figsize=(12,6))\n",
    "fig.suptitle(\"daily sales from {} to {} for store_code: {}\".format(date_min, \n",
    "                                                                  date_max,\n",
    "                                                                  daily_data_date_df.store.iloc[0]))\n",
    "\n",
    "sns.lineplot(x=daily_data_date_df.index, \n",
    "             y='sales', \n",
    "             data=daily_data_date_df,  \n",
    "             palette='winter',\n",
    "             markers=True,\n",
    "             dashes=False,\n",
    "             legend='full',\n",
    "             ax=ax1)\n",
    "\n",
    "# apply vertical red line for the Zivot Andrews calculated breakpoint\n",
    "ax1.set_ylabel(\"DAILY SALES\", fontsize=12)\n",
    "ax1.axvline(date_location_za_strp, 0, color='r', linestyle='--', label='ZA BREAKPOINT')\n",
    "ax1_labels=['ZA BREAKPOINT']\n",
    "handles_1, _ = ax1.get_legend_handles_labels()\n",
    "ax1.legend(handles=handles_1, labels=ax1_labels)\n",
    "\n",
    "plt.show()"
   ]
  },
  {
   "cell_type": "markdown",
   "metadata": {},
   "source": [
    "* Fairly easy to observe that the dynamics of the series after the breakdate are rather different from those from before. A visible upwards trend is now in the data and the period: 2021-01 (as well as the mid 2020-05 section) now exhibit the 3 highest peak values in the data set post breakpoint. "
   ]
  },
  {
   "cell_type": "code",
   "execution_count": null,
   "metadata": {},
   "outputs": [],
   "source": []
  },
  {
   "cell_type": "code",
   "execution_count": null,
   "metadata": {},
   "outputs": [],
   "source": []
  },
  {
   "cell_type": "markdown",
   "metadata": {},
   "source": [
    "<a id='initial_data_exploration'></a>\n",
    "\n",
    "## INITIAL DATA EXPLORATION & AUTO-CORRELATION INTRODUCTION"
   ]
  },
  {
   "cell_type": "markdown",
   "metadata": {},
   "source": [
    "Another important concept to consider is partial correlation function (PACF), which is a conditional correlation. It is the correlation between two variables under the assumption that we consider the values of some other set of variables. In regression, this partial correlation could be found by correlating the residuals from two different regressions.\n",
    "\n",
    "In a time series data set, the autocorrelation for a value at a time stamp and another value at a prior time stamp consists of both the direct correlation between these two values and indirect correlations. These indirect correlations are a linear function of the correlation of the value under observation, with values at intervening time stamps."
   ]
  },
  {
   "cell_type": "code",
   "execution_count": null,
   "metadata": {},
   "outputs": [],
   "source": [
    "# two additional imports for the statsmodels plots for ACF and PACF\n",
    "from statsmodels.graphics.tsaplots import plot_acf, plot_pacf"
   ]
  },
  {
   "cell_type": "code",
   "execution_count": 63,
   "metadata": {},
   "outputs": [],
   "source": [
    "def acf_pacf_subplots(series, sample_length='full', number_lags=None, **kwargs):\n",
    "    \"show side-by-side ACF and PACF plots for selected series with a default lag length of 30\"\n",
    "    \n",
    "    # set default lags to 30 if not passed\n",
    "    if number_lags is None:\n",
    "        number_lags = 30\n",
    "       \n",
    "    # check to see if the passed-in series is valid\n",
    "    if series not in ['sales', 'gp','promosales','baskets','avgbasket','waste','loyaltysales']:\n",
    "        raise ValueError(\"The series passed is either illogical or invalid in an ACF/PACF plot: pass a correct timeseries\")\n",
    "    \n",
    "    # check if passed in sample_length argument is valid, else raise an error and suggestion\n",
    "    if sample_length not in ['full','post_bp','pre_bp','both_bp']:\n",
    "        raise ValueError(\"sample_length must be one of: whole sample [full], post-za breakpoint [post_bp], pre [pre_bp], or both bp [both_bp]\")\n",
    "    \n",
    "    # return the respective graph based off user defined input for sample length\n",
    "    if sample_length=='full':\n",
    "        fig, ax = plt.subplots(1,2, figsize=(13, 6))\n",
    "        fig.suptitle(\"full-sample length ACF and PACF plots for series: {}\".format(series))\n",
    "        sm.graphics.tsa.plot_acf(daily_data_date_df[series], lags=number_lags, ax=ax[0])\n",
    "        sm.graphics.tsa.plot_pacf(daily_data_date_df[series], lags=number_lags, ax=ax[1])\n",
    "        return plt.show()\n",
    "    \n",
    "    if sample_length=='post_bp':\n",
    "        \n",
    "        # raise error if a breakpoint sample length was passed without a date\n",
    "        if kwargs.get(\"breakpoint_date\") is None:\n",
    "            raise ValueError(\"must pass in variable ['breakpoint_date'] to use the breakpoint function\")        \n",
    "    \n",
    "        breakpoint_date = kwargs.get(\"breakpoint_date\")\n",
    "        \n",
    "        # construct plot\n",
    "        fig, ax = plt.subplots(1,2, figsize=(13, 6))\n",
    "        fig.suptitle(\"post ZA-breakpoint length ACF and PACF plots for series: {}\".format(series))\n",
    "        \n",
    "        sm.graphics.tsa.plot_acf(daily_data_date_df[daily_data_date_df.index > breakpoint_date][series], \n",
    "                                 lags=number_lags, ax=ax[0])\n",
    "        \n",
    "        sm.graphics.tsa.plot_pacf(daily_data_date_df[daily_data_date_df.index > breakpoint_date][series], \n",
    "                                  lags=number_lags, ax=ax[1])\n",
    "        return plt.show()        \n",
    "    \n",
    "\n",
    "    if sample_length=='pre_bp':\n",
    "        \n",
    "        # raise error if a breakpoint sample length was passed without a date\n",
    "        if kwargs.get(\"breakpoint_date\") is None:\n",
    "            raise ValueError(\"must pass in variable ['breakpoint_date'] to use the breakpoint function\")\n",
    "            \n",
    "        breakpoint_date = kwargs.get(\"breakpoint_date\")    \n",
    "        \n",
    "        # construct plot \n",
    "        fig, ax = plt.subplots(1,2, figsize=(13, 6))\n",
    "        fig.suptitle(\"post ZA-breakpoint length ACF and PACF plots for series: {}\".format(series))\n",
    "        \n",
    "        sm.graphics.tsa.plot_acf(daily_data_date_df[daily_data_date_df.index < breakpoint_date][series], \n",
    "                                 lags=number_lags, ax=ax[0])\n",
    "        \n",
    "        sm.graphics.tsa.plot_pacf(daily_data_date_df[daily_data_date_df.index < breakpoint_date][series], \n",
    "                                  lags=number_lags, ax=ax[1])\n",
    "        return plt.show()  \n",
    "    \n",
    "    \n",
    "    if sample_length=='both_bp':\n",
    "        \n",
    "        # raise error if a breakpoint sample length was passed without a date\n",
    "        if kwargs.get(\"breakpoint_date\") is None:\n",
    "            raise ValueError(\"must pass in variable ['breakpoint_date'] to use the breakpoint function\")\n",
    "        \n",
    "        breakpoint_date = kwargs.get(\"breakpoint_date\")\n",
    "        \n",
    "        # reconstruct fig size for 4 plots: \n",
    "        fig, ax = plt.subplots(2,2, figsize=(16, 9))\n",
    "        \n",
    "        fig.suptitle(\"both [post & pre] ZA-breakpoints ACF and PACF plot comparisons for series: {}\".format(series))\n",
    "        \n",
    "        sm.graphics.tsa.plot_acf(daily_data_date_df[daily_data_date_df.index > breakpoint_date][series], \n",
    "                                 lags=number_lags, ax=ax[0, 0])\n",
    "        \n",
    "        ax[0,0].set_title(\"post BP ACF\")\n",
    "        \n",
    "        sm.graphics.tsa.plot_pacf(daily_data_date_df[daily_data_date_df.index > breakpoint_date][series], \n",
    "                                  lags=number_lags, ax=ax[0, 1])\n",
    "        \n",
    "        ax[0,1].set_title(\"post BP PACF\")\n",
    "        \n",
    "        # pre breakpoint plots \n",
    "        sm.graphics.tsa.plot_acf(daily_data_date_df[daily_data_date_df.index < breakpoint_date][series], \n",
    "                                 lags=number_lags, ax=ax[1,0])\n",
    "        \n",
    "        ax[1,0].set_title(\"pre BP ACF\")\n",
    "        \n",
    "        sm.graphics.tsa.plot_pacf(daily_data_date_df[daily_data_date_df.index < breakpoint_date][series], \n",
    "                                  lags=number_lags, ax=ax[1,1])\n",
    "        \n",
    "        ax[1,1].set_title(\"pre BP PACF\")\n",
    "        \n",
    "        return plt.show()      \n",
    "    \n",
    "    \n",
    "    "
   ]
  },
  {
   "cell_type": "code",
   "execution_count": 64,
   "metadata": {},
   "outputs": [
    {
     "data": {
      "image/png": "[encoded data removed]",
      "text/plain": [
       "<Figure size 936x432 with 2 Axes>"
      ]
     },
     "metadata": {
      "needs_background": "light"
     },
     "output_type": "display_data"
    }
   ],
   "source": [
    "# show the ACF and PACF on the entire sample (2019-2021)\n",
    "acf_pacf_subplots('sales')"
   ]
  },
  {
   "cell_type": "code",
   "execution_count": null,
   "metadata": {},
   "outputs": [],
   "source": []
  },
  {
   "cell_type": "code",
   "execution_count": 65,
   "metadata": {
    "scrolled": false
   },
   "outputs": [
    {
     "data": {
      "image/png": "[encoded data removed]",
      "text/plain": [
       "<Figure size 1152x648 with 4 Axes>"
      ]
     },
     "metadata": {
      "needs_background": "light"
     },
     "output_type": "display_data"
    }
   ],
   "source": [
    "# show pre-break point and post-breakpoint ACF and PACF side-by-side for comparison\n",
    "acf_pacf_subplots('sales', sample_length='both_bp',breakpoint_date=date_location_za_clean)"
   ]
  },
  {
   "cell_type": "markdown",
   "metadata": {},
   "source": [
    "## ACF / PACF OBSERVATIONS \n",
    "\n",
    "#### FULL-SAMPLE\n",
    "* comparing the first ACF/PACF plot, there is extreme persistence in the autocorrelation from day-to-day, which would be a strong initial indication of a stationary dataset (although a proper statistical test is still necessary later). \n",
    "    * The PACF indicates strong weekly correlation, which makes sense given that particular days of the week are likely to be strong correlated with the same day in the previous week E.G. Sunday to Sunday\n",
    "    * However, the full-sample PACF also has strong (well above the confidence interval) partial autocorrelation for various, seemingly random lag lengths-- this is possibly attributable to days of the week (E.G. monday / tuesday / wednesday ) affecting each one of the same days in the following week, as week-days tend to exhibit the same kinds of consumer behaviour. \n",
    "    \n",
    "#### ZA-BREAKPOINT SPLIT \n",
    "* We notice a lot of the persistent autocorrelation in the pre-breakpoint ACF disappears; the partial ACF phenomena in lags of (7) remains however. This might suggest daily sales from week to week tend to flucuate / be more volatile than what is found in the post-BP sub-sample\n",
    "* The post-BP has significantly stronger AC, with lags (1-2) becoming significant again; moreover, the PACF 7 day consistency is also present although some of that \"seemingly\" random PACF phenomena reemerges. This might possibly suggest the same phenomena described above about saturday > sunday or weekdays being fairly similar regarding consumer purchasing behaviour between Monday to Wednesdays, for instance. \n",
    "    * The tendency for the PACF to fade out quicker than "
   ]
  },
  {
   "cell_type": "code",
   "execution_count": null,
   "metadata": {},
   "outputs": [],
   "source": []
  },
  {
   "cell_type": "code",
   "execution_count": null,
   "metadata": {},
   "outputs": [],
   "source": []
  },
  {
   "cell_type": "code",
   "execution_count": null,
   "metadata": {},
   "outputs": [],
   "source": []
  },
  {
   "cell_type": "code",
   "execution_count": null,
   "metadata": {},
   "outputs": [],
   "source": []
  },
  {
   "cell_type": "code",
   "execution_count": null,
   "metadata": {},
   "outputs": [],
   "source": []
  },
  {
   "cell_type": "code",
   "execution_count": null,
   "metadata": {},
   "outputs": [],
   "source": []
  },
  {
   "cell_type": "markdown",
   "metadata": {},
   "source": [
    "## NOTES ON TRAIN/TEST SPLIT SIZE\n",
    "* Provided the general business problem was establishing a forward-looking 1m forecast for purchase budgeting, the sales forecasts had to be locked in 1m in advance\n",
    "    * Accordingly, an initial point for these budgets was to utilise a train/test split that gives a test size of roughly 1m as the option to do walk-forward validation is not available in practice\n",
    "    * This results in a 92% training size to a 8% test size, which is roughly (345 to 30 observations respectively)\n",
    "    \n",
    "\n",
    "* There is also the added issue of December (Christmas) + Christmas in Covid, having a skewed effect on the test size if the training size is too small and being dominated by the above average December period\n",
    "\n",
    "\n",
    "* NOTE: the \"daily_postbf_df\" is defined from the ZA-breakpoint (defined above) or follow this link: [to_za_breakpoint](#sub_sampling) "
   ]
  },
  {
   "cell_type": "code",
   "execution_count": 93,
   "metadata": {},
   "outputs": [
    {
     "name": "stdout",
     "output_type": "stream",
     "text": [
      " training size: 345 \n",
      " test size: 30\n"
     ]
    }
   ],
   "source": [
    "# set a training/test split to 92% / 8% -- that way the test size is roughly 1m \n",
    "training_size_percent = 0.92\n",
    "\n",
    "# use floor to ensure values are integers \n",
    "training_size = np.floor(len(daily_postbp_df) * training_size_percent)\n",
    "\n",
    "print(\" training size: {} \\n test size: {}\".format(int(training_size), \n",
    "                                                     int(len(daily_postbp_df) - training_size)))\n",
    "\n",
    "split_date = daily_postbp_df.index[0] + pd.DateOffset(training_size)\n",
    "\n",
    "daily_postpb_train = daily_postbp_df.loc[daily_postbp_df.index < split_date]\n",
    "daily_postb_test = daily_postbp_df.loc[daily_postbp_df.index >= split_date]"
   ]
  },
  {
   "cell_type": "code",
   "execution_count": null,
   "metadata": {},
   "outputs": [],
   "source": []
  },
  {
   "cell_type": "code",
   "execution_count": 94,
   "metadata": {},
   "outputs": [
    {
     "data": {
      "text/html": [
       "<div>\n",
       "<style scoped>\n",
       "    .dataframe tbody tr th:only-of-type {\n",
       "        vertical-align: middle;\n",
       "    }\n",
       "\n",
       "    .dataframe tbody tr th {\n",
       "        vertical-align: top;\n",
       "    }\n",
       "\n",
       "    .dataframe thead th {\n",
       "        text-align: right;\n",
       "    }\n",
       "</style>\n",
       "<table border=\"1\" class=\"dataframe\">\n",
       "  <thead>\n",
       "    <tr style=\"text-align: right;\">\n",
       "      <th></th>\n",
       "      <th>store</th>\n",
       "      <th>sales</th>\n",
       "      <th>gp</th>\n",
       "      <th>promosales</th>\n",
       "      <th>promosales</th>\n",
       "      <th>baskets</th>\n",
       "      <th>avgbasket</th>\n",
       "      <th>waste</th>\n",
       "      <th>markdown</th>\n",
       "      <th>items</th>\n",
       "      <th>normalqty</th>\n",
       "      <th>promoqty</th>\n",
       "      <th>loyaltysales</th>\n",
       "      <th>costadjustment</th>\n",
       "      <th>gst</th>\n",
       "      <th>publichol</th>\n",
       "    </tr>\n",
       "    <tr>\n",
       "      <th>datealternatekey</th>\n",
       "      <th></th>\n",
       "      <th></th>\n",
       "      <th></th>\n",
       "      <th></th>\n",
       "      <th></th>\n",
       "      <th></th>\n",
       "      <th></th>\n",
       "      <th></th>\n",
       "      <th></th>\n",
       "      <th></th>\n",
       "      <th></th>\n",
       "      <th></th>\n",
       "      <th></th>\n",
       "      <th></th>\n",
       "      <th></th>\n",
       "      <th></th>\n",
       "    </tr>\n",
       "  </thead>\n",
       "  <tbody>\n",
       "    <tr>\n",
       "      <th>2021-02-19</th>\n",
       "      <td>MW</td>\n",
       "      <td>26,024.62</td>\n",
       "      <td>5,786.80</td>\n",
       "      <td>12,273.13</td>\n",
       "      <td>0.47</td>\n",
       "      <td>1354</td>\n",
       "      <td>19.22</td>\n",
       "      <td>32.45</td>\n",
       "      <td>258.96</td>\n",
       "      <td>5242</td>\n",
       "      <td>2,784.35</td>\n",
       "      <td>2,216.89</td>\n",
       "      <td>861.98</td>\n",
       "      <td>91.32</td>\n",
       "      <td>1,478.49</td>\n",
       "      <td>0</td>\n",
       "    </tr>\n",
       "    <tr>\n",
       "      <th>2021-02-20</th>\n",
       "      <td>MW</td>\n",
       "      <td>28,570.45</td>\n",
       "      <td>6,063.46</td>\n",
       "      <td>13,303.86</td>\n",
       "      <td>0.47</td>\n",
       "      <td>1444</td>\n",
       "      <td>19.79</td>\n",
       "      <td>245.51</td>\n",
       "      <td>490.99</td>\n",
       "      <td>5583</td>\n",
       "      <td>2,922.33</td>\n",
       "      <td>2,317.02</td>\n",
       "      <td>821.73</td>\n",
       "      <td>-343.87</td>\n",
       "      <td>1,513.97</td>\n",
       "      <td>0</td>\n",
       "    </tr>\n",
       "    <tr>\n",
       "      <th>2021-02-21</th>\n",
       "      <td>MW</td>\n",
       "      <td>27,667.87</td>\n",
       "      <td>6,588.10</td>\n",
       "      <td>13,206.88</td>\n",
       "      <td>0.48</td>\n",
       "      <td>1339</td>\n",
       "      <td>20.66</td>\n",
       "      <td>489.45</td>\n",
       "      <td>322.03</td>\n",
       "      <td>5812</td>\n",
       "      <td>3,071.46</td>\n",
       "      <td>2,389.17</td>\n",
       "      <td>732.69</td>\n",
       "      <td>276.26</td>\n",
       "      <td>1,476.60</td>\n",
       "      <td>0</td>\n",
       "    </tr>\n",
       "  </tbody>\n",
       "</table>\n",
       "</div>"
      ],
      "text/plain": [
       "                 store     sales       gp  promosales  promosales  baskets  \\\n",
       "datealternatekey                                                             \n",
       "2021-02-19          MW 26,024.62 5,786.80   12,273.13        0.47     1354   \n",
       "2021-02-20          MW 28,570.45 6,063.46   13,303.86        0.47     1444   \n",
       "2021-02-21          MW 27,667.87 6,588.10   13,206.88        0.48     1339   \n",
       "\n",
       "                  avgbasket  waste  markdown  items  normalqty  promoqty  \\\n",
       "datealternatekey                                                           \n",
       "2021-02-19            19.22  32.45    258.96   5242   2,784.35  2,216.89   \n",
       "2021-02-20            19.79 245.51    490.99   5583   2,922.33  2,317.02   \n",
       "2021-02-21            20.66 489.45    322.03   5812   3,071.46  2,389.17   \n",
       "\n",
       "                  loyaltysales  costadjustment      gst  publichol  \n",
       "datealternatekey                                                    \n",
       "2021-02-19              861.98           91.32 1,478.49          0  \n",
       "2021-02-20              821.73         -343.87 1,513.97          0  \n",
       "2021-02-21              732.69          276.26 1,476.60          0  "
      ]
     },
     "execution_count": 94,
     "metadata": {},
     "output_type": "execute_result"
    }
   ],
   "source": [
    "daily_postpb_train.tail(3)"
   ]
  },
  {
   "cell_type": "code",
   "execution_count": 95,
   "metadata": {},
   "outputs": [
    {
     "data": {
      "text/html": [
       "<div>\n",
       "<style scoped>\n",
       "    .dataframe tbody tr th:only-of-type {\n",
       "        vertical-align: middle;\n",
       "    }\n",
       "\n",
       "    .dataframe tbody tr th {\n",
       "        vertical-align: top;\n",
       "    }\n",
       "\n",
       "    .dataframe thead th {\n",
       "        text-align: right;\n",
       "    }\n",
       "</style>\n",
       "<table border=\"1\" class=\"dataframe\">\n",
       "  <thead>\n",
       "    <tr style=\"text-align: right;\">\n",
       "      <th></th>\n",
       "      <th>store</th>\n",
       "      <th>sales</th>\n",
       "      <th>gp</th>\n",
       "      <th>promosales</th>\n",
       "      <th>promosales</th>\n",
       "      <th>baskets</th>\n",
       "      <th>avgbasket</th>\n",
       "      <th>waste</th>\n",
       "      <th>markdown</th>\n",
       "      <th>items</th>\n",
       "      <th>normalqty</th>\n",
       "      <th>promoqty</th>\n",
       "      <th>loyaltysales</th>\n",
       "      <th>costadjustment</th>\n",
       "      <th>gst</th>\n",
       "      <th>publichol</th>\n",
       "    </tr>\n",
       "    <tr>\n",
       "      <th>datealternatekey</th>\n",
       "      <th></th>\n",
       "      <th></th>\n",
       "      <th></th>\n",
       "      <th></th>\n",
       "      <th></th>\n",
       "      <th></th>\n",
       "      <th></th>\n",
       "      <th></th>\n",
       "      <th></th>\n",
       "      <th></th>\n",
       "      <th></th>\n",
       "      <th></th>\n",
       "      <th></th>\n",
       "      <th></th>\n",
       "      <th></th>\n",
       "      <th></th>\n",
       "    </tr>\n",
       "  </thead>\n",
       "  <tbody>\n",
       "    <tr>\n",
       "      <th>2021-02-22</th>\n",
       "      <td>MW</td>\n",
       "      <td>27,605.25</td>\n",
       "      <td>6,767.90</td>\n",
       "      <td>12,910.30</td>\n",
       "      <td>0.47</td>\n",
       "      <td>1324</td>\n",
       "      <td>20.85</td>\n",
       "      <td>27.58</td>\n",
       "      <td>170.80</td>\n",
       "      <td>5635</td>\n",
       "      <td>3,057.31</td>\n",
       "      <td>2,183.59</td>\n",
       "      <td>1,181.88</td>\n",
       "      <td>-148.03</td>\n",
       "      <td>1,495.54</td>\n",
       "      <td>0</td>\n",
       "    </tr>\n",
       "    <tr>\n",
       "      <th>2021-02-23</th>\n",
       "      <td>MW</td>\n",
       "      <td>25,594.30</td>\n",
       "      <td>5,839.91</td>\n",
       "      <td>11,310.23</td>\n",
       "      <td>0.44</td>\n",
       "      <td>1332</td>\n",
       "      <td>19.21</td>\n",
       "      <td>13.31</td>\n",
       "      <td>146.63</td>\n",
       "      <td>4815</td>\n",
       "      <td>8,937.30</td>\n",
       "      <td>1,918.94</td>\n",
       "      <td>989.24</td>\n",
       "      <td>-114.26</td>\n",
       "      <td>1,340.16</td>\n",
       "      <td>0</td>\n",
       "    </tr>\n",
       "    <tr>\n",
       "      <th>2021-02-24</th>\n",
       "      <td>MW</td>\n",
       "      <td>25,040.84</td>\n",
       "      <td>5,836.96</td>\n",
       "      <td>10,900.06</td>\n",
       "      <td>0.44</td>\n",
       "      <td>1321</td>\n",
       "      <td>18.96</td>\n",
       "      <td>9.44</td>\n",
       "      <td>289.38</td>\n",
       "      <td>5015</td>\n",
       "      <td>2,836.36</td>\n",
       "      <td>1,867.37</td>\n",
       "      <td>848.74</td>\n",
       "      <td>-109.51</td>\n",
       "      <td>1,413.53</td>\n",
       "      <td>0</td>\n",
       "    </tr>\n",
       "  </tbody>\n",
       "</table>\n",
       "</div>"
      ],
      "text/plain": [
       "                 store     sales       gp  promosales  promosales  baskets  \\\n",
       "datealternatekey                                                             \n",
       "2021-02-22          MW 27,605.25 6,767.90   12,910.30        0.47     1324   \n",
       "2021-02-23          MW 25,594.30 5,839.91   11,310.23        0.44     1332   \n",
       "2021-02-24          MW 25,040.84 5,836.96   10,900.06        0.44     1321   \n",
       "\n",
       "                  avgbasket  waste  markdown  items  normalqty  promoqty  \\\n",
       "datealternatekey                                                           \n",
       "2021-02-22            20.85  27.58    170.80   5635   3,057.31  2,183.59   \n",
       "2021-02-23            19.21  13.31    146.63   4815   8,937.30  1,918.94   \n",
       "2021-02-24            18.96   9.44    289.38   5015   2,836.36  1,867.37   \n",
       "\n",
       "                  loyaltysales  costadjustment      gst  publichol  \n",
       "datealternatekey                                                    \n",
       "2021-02-22            1,181.88         -148.03 1,495.54          0  \n",
       "2021-02-23              989.24         -114.26 1,340.16          0  \n",
       "2021-02-24              848.74         -109.51 1,413.53          0  "
      ]
     },
     "execution_count": 95,
     "metadata": {},
     "output_type": "execute_result"
    }
   ],
   "source": [
    "daily_postb_test.head(3)"
   ]
  },
  {
   "cell_type": "code",
   "execution_count": null,
   "metadata": {},
   "outputs": [],
   "source": []
  },
  {
   "cell_type": "markdown",
   "metadata": {},
   "source": [
    "## PICKLE THE TRAIN/TEST SETS [OPTIONAL]"
   ]
  },
  {
   "cell_type": "code",
   "execution_count": 19,
   "metadata": {},
   "outputs": [],
   "source": [
    "#daily_postpb_train.to_pickle(\"./daily_postpb_train.pkl\")\n",
    "#daily_postb_test.to_pickle(\"./daily_postb_test.pkl\")"
   ]
  },
  {
   "cell_type": "code",
   "execution_count": null,
   "metadata": {},
   "outputs": [],
   "source": []
  },
  {
   "cell_type": "code",
   "execution_count": null,
   "metadata": {},
   "outputs": [],
   "source": []
  },
  {
   "cell_type": "markdown",
   "metadata": {},
   "source": [
    "<a id='forecasting_intro'></a>\n",
    "\n",
    "# FORECAST INTRODUCTION"
   ]
  },
  {
   "cell_type": "code",
   "execution_count": 233,
   "metadata": {},
   "outputs": [],
   "source": [
    "# initialise dict to save results \n",
    "model_results_dict = {}"
   ]
  },
  {
   "cell_type": "code",
   "execution_count": 20,
   "metadata": {},
   "outputs": [],
   "source": [
    "# convert to tabulate! \n",
    "\n",
    "def evaulate_model_forecast(yhat_values, tester_df_values):\n",
    "    \"\"\"\n",
    "    A function to quickly report the key accuracy statistics for each model's forecast\n",
    "    \"\"\"\n",
    "    \n",
    "    print(\"Root Mean Squared Error (RMSE): {}\".format(np.round(\n",
    "        mean_squared_error(yhat_values, tester_df_values, squared=False)),4),'\\n', \"--\"*25, '\\n')\n",
    "    \n",
    "    #print(\"Mean Absolute Percentage Error (MAPE): {:.2}%\".format(\n",
    "    #    mean_absolute_percentage_error(yhat_values, tester_df_values) *100), '\\n', \"--\"*25, '\\n')   \n",
    "    \n",
    "    mape = mean_absolute_percentage_error(yhat_values, tester_df_values) * 100\n",
    "    print(\"Mean Absolute Percentage Error (MAPE): {}%\".format(np.round(mape,2)), '\\n', \"--\"*25, '\\n')    \n",
    "    \n",
    "    \n",
    "    print(\"Mean Absolute Erorr (MAE): {}\".format(np.round(\n",
    "        mean_absolute_error(yhat_values, tester_df_values)),4),'\\n', \"--\"*25, '\\n')"
   ]
  },
  {
   "cell_type": "code",
   "execution_count": 235,
   "metadata": {},
   "outputs": [],
   "source": [
    "def store_model_forecast(yhat_values, tester_df_values, just_mape=False):\n",
    "    \"\"\"\n",
    "    return the model evaulation metrics to be stored in a dictionary for model comparison\n",
    "    \"\"\"\n",
    "    \n",
    "    # round each metric to 4 decimals\n",
    "    mape = np.round(mean_absolute_percentage_error(yhat_values, tester_df_values) * 100, 2)\n",
    "    mse = np.round(mean_squared_error(yhat_values, tester_df_values, squared=False),4)\n",
    "    mae = np.round(mean_absolute_error(yhat_values, tester_df_values),4)\n",
    "    \n",
    "    # if iteration is just_mape, return just MAPE, else return all 3 metrics\n",
    "    if just_mape==False:\n",
    "        return mape, mse, mae\n",
    "    else: \n",
    "        return mape\n",
    "    "
   ]
  },
  {
   "cell_type": "code",
   "execution_count": null,
   "metadata": {},
   "outputs": [],
   "source": []
  },
  {
   "cell_type": "code",
   "execution_count": null,
   "metadata": {},
   "outputs": [],
   "source": []
  },
  {
   "cell_type": "code",
   "execution_count": null,
   "metadata": {},
   "outputs": [],
   "source": []
  },
  {
   "cell_type": "markdown",
   "metadata": {},
   "source": [
    "<a id='naive_forecast'></a>\n",
    "\n",
    "# NAIVE FORECAST\n",
    "* Important to include a naive forecast to measure the \"gain\" of more complicated models\n",
    "* Accordingly, it makes little sense to implement a more complicated models if it doesn't involve any significant gain in accuracy Vs. the most simple method (simply predicting the next value to be the mean of the series to date)\n"
   ]
  },
  {
   "cell_type": "code",
   "execution_count": 199,
   "metadata": {},
   "outputs": [],
   "source": [
    "# define series mean (sales)\n",
    "sales_mean_postb = daily_postbp_df.sales.mean()\n",
    "\n",
    "# convert the entire series mean intro an array of equal length with the mean value as each daily element\n",
    "sales_mean_postb = np.array([sales_mean_postb for u in range(len(daily_postbp_df))])"
   ]
  },
  {
   "cell_type": "code",
   "execution_count": 200,
   "metadata": {},
   "outputs": [
    {
     "name": "stdout",
     "output_type": "stream",
     "text": [
      "Root Mean Squared Error (RMSE): 4187.0 \n",
      " -------------------------------------------------- \n",
      "\n",
      "Mean Absolute Percentage Error (MAPE): 9.68% \n",
      " -------------------------------------------------- \n",
      "\n",
      "Mean Absolute Erorr (MAE): 2666.0 \n",
      " -------------------------------------------------- \n",
      "\n"
     ]
    }
   ],
   "source": [
    "evaulate_model_forecast(sales_mean_postb, daily_postbp_df.sales)"
   ]
  },
  {
   "cell_type": "markdown",
   "metadata": {},
   "source": [
    "* Unsurprisingly, the Naive Forecast performs quite poorly. \n",
    "* This is likely because the naive mean can't account for the complexities in the nature of the data; namely, weekends are higher than weekdays, but Mondays might be lower than your average weekday. Furthermore, there are holidays and other special events that aren't captured well by the Naive forecast. Additionally, the naive mean does a poor job capturing the rising trend of the data over the months."
   ]
  },
  {
   "cell_type": "code",
   "execution_count": null,
   "metadata": {},
   "outputs": [],
   "source": []
  },
  {
   "cell_type": "code",
   "execution_count": null,
   "metadata": {},
   "outputs": [],
   "source": []
  },
  {
   "cell_type": "code",
   "execution_count": 208,
   "metadata": {},
   "outputs": [],
   "source": [
    "# if you wanted to save all metrics to the dictionary; uncomment\n",
    "\n",
    "#model_results_dict['naive_forecast'] = {'MSE': store_model_forecast(sales_mean_postb, daily_postbp_df.sales)[0],\n",
    "#                             'MAPE': store_model_forecast(sales_mean_postb, daily_postbp_df.sales)[1],\n",
    "#                             'MAE': store_model_forecast(sales_mean_postb, daily_postbp_df.sales)[2]}"
   ]
  },
  {
   "cell_type": "code",
   "execution_count": 236,
   "metadata": {},
   "outputs": [],
   "source": [
    "# store the results in a dictionary using the above defined evaulation function\n",
    "model_results_dict['naive_forecast'] = store_model_forecast(sales_mean_postb, daily_postbp_df.sales,\n",
    "                                                           just_mape=True)"
   ]
  },
  {
   "cell_type": "code",
   "execution_count": null,
   "metadata": {},
   "outputs": [],
   "source": []
  },
  {
   "cell_type": "code",
   "execution_count": null,
   "metadata": {},
   "outputs": [],
   "source": []
  },
  {
   "cell_type": "markdown",
   "metadata": {},
   "source": [
    "<a id='sarimax'></a>\n",
    "\n",
    "## SARIMAX: Seasonal Autoregressive Integrated Moving Average (Exogenous Variable: X)\n",
    "* the base notation for the model is: SARIMAX(p,d,q)(P,D,Q,m)(X)\n",
    "    * denoting the: Trend Autoregression order, Trend Difference Order, Trend Moving Average Order, (repeated for the seasonal comonent in that order), and the specified exogenous variable (Holidays/Special Events) in this case.\n",
    "\n",
    "\n",
    "## SARIMAX AUTO \n",
    "* The model is initially trained on the training DF, then used to make predictions on the test DF\n",
    "* pm.auto_arima = A module for iteratively calculating the optimal ARIMA & Seasonal Terms in the SARIMAX environment, subject to user specified restraints and optimisation preferences\n",
    "\n",
    "#### PARAMETERS EXPLANATION:\n",
    "* m=7 (seasonality, for daily data (7) = weekly)\n",
    "* method = 'lbfgs' (optimisation method) is: limited-memory BFGS with optional box constraints\n",
    "* Stepwise = the stepwise algorithm outlined in Hyndman and Khandakar (2008) \n",
    "    * This method of identifying optimal model parameters is significantly faster than fitting all (or a random subset) of hyper-parameter combinations, and is less likely to over-fit the model as a result\n",
    "* return_valid_fits = will return all valid ARIMA models (these will be later filtered on)\n",
    "* Information Criterion = how to score each mode, optons are (AIC, BIC, HQIC, OOB)\n",
    "    * The bic tends to favour less complicated models relative to the AIC, which favours model parsimony\n",
    "* the max and start (p, P, Q, q, D, d) are the max and starting values for the:\n",
    "    * p = AR component of the arima model\n",
    "    * P = AR component of the seasonal component \n",
    "    * d = the order of first-differencing for the ARIMA\n",
    "    * D = the order of first-differencing for the seasonal component \n",
    "    * q = MA component of the ARIMA\n",
    "    * Q = MA component of the seasonal component \n",
    "* max_order = maximum integer which is a sum of any of the above mentioned individual model components, set to None meaning no maximum restriction imposed (although individual restraints specified by max_p, max_q etc. do indeed enforce an eventual max_order)\n",
    "* X = here is an array of (1, 0) which represent public holidays; reshaped(-1, 1) to fit the column-length wise dimensions needed for the data"
   ]
  },
  {
   "cell_type": "code",
   "execution_count": 160,
   "metadata": {},
   "outputs": [],
   "source": [
    "# import the auto-(s)arima packages\n",
    "import pmdarima as pm"
   ]
  },
  {
   "cell_type": "code",
   "execution_count": null,
   "metadata": {},
   "outputs": [],
   "source": [
    "## import pickles if necessary \n",
    "#daily_postpb_train = pd.read_pickle(\"./daily_postpb_train.pkl\") \n",
    "#daily_postb_test = pd.read_pickle(\"./daily_postb_test.pkl\") "
   ]
  },
  {
   "cell_type": "code",
   "execution_count": 161,
   "metadata": {},
   "outputs": [
    {
     "name": "stdout",
     "output_type": "stream",
     "text": [
      "Performing stepwise search to minimize bic\n",
      " ARIMA(2,1,2)(3,0,2)[7] intercept   : BIC=6661.527, Time=2.49 sec\n",
      " ARIMA(0,1,0)(0,0,0)[7] intercept   : BIC=6817.811, Time=0.01 sec\n",
      " ARIMA(1,1,0)(1,0,0)[7] intercept   : BIC=6722.540, Time=0.10 sec\n",
      " ARIMA(0,1,1)(0,0,1)[7] intercept   : BIC=6635.740, Time=0.50 sec\n",
      " ARIMA(0,1,0)(0,0,0)[7]             : BIC=6812.089, Time=0.13 sec\n",
      " ARIMA(0,1,1)(0,0,0)[7] intercept   : BIC=6646.148, Time=0.22 sec\n",
      " ARIMA(0,1,1)(1,0,1)[7] intercept   : BIC=inf, Time=0.68 sec\n",
      " ARIMA(0,1,1)(0,0,2)[7] intercept   : BIC=6633.880, Time=0.98 sec\n",
      " ARIMA(0,1,1)(1,0,2)[7] intercept   : BIC=inf, Time=1.15 sec\n",
      " ARIMA(0,1,1)(0,0,3)[7] intercept   : BIC=6640.928, Time=1.37 sec\n",
      " ARIMA(0,1,1)(1,0,3)[7] intercept   : BIC=6652.761, Time=1.52 sec\n",
      " ARIMA(0,1,0)(0,0,2)[7] intercept   : BIC=6802.359, Time=0.10 sec\n",
      " ARIMA(1,1,1)(0,0,2)[7] intercept   : BIC=6636.109, Time=1.24 sec\n",
      " ARIMA(0,1,2)(0,0,2)[7] intercept   : BIC=6640.225, Time=0.66 sec\n",
      " ARIMA(1,1,0)(0,0,2)[7] intercept   : BIC=6724.619, Time=0.44 sec\n",
      " ARIMA(1,1,2)(0,0,2)[7] intercept   : BIC=inf, Time=0.99 sec\n",
      " ARIMA(0,1,1)(0,0,2)[7]             : BIC=6637.794, Time=0.23 sec\n",
      "\n",
      "Best model:  ARIMA(0,1,1)(0,0,2)[7] intercept\n",
      "Total fit time: 12.860 seconds\n"
     ]
    }
   ],
   "source": [
    "## == DF TRAINING == ## \n",
    "sarima_auto = pm.auto_arima(daily_postpb_train.sales,\n",
    "             trace=True,\n",
    "             error_action='warn',\n",
    "             seasonal=True,\n",
    "             m=7,\n",
    "             stepwise=True,\n",
    "             method='lbfgs',\n",
    "             return_valid_fits=True,\n",
    "             information_criterion='bic',\n",
    "                           max_p = 5,\n",
    "                           max_q = 4,\n",
    "                           max_Q = 4,\n",
    "                           max_P = 5,\n",
    "                           max_D = 1,\n",
    "                           max_d = 1,\n",
    "                           start_P = 3,\n",
    "                           start_q = 2,\n",
    "                           start_Q = 2,\n",
    "                           start_p = 2,\n",
    "                           max_order=None,\n",
    "                           X = np.array(daily_postpb_train.publichol).reshape(-1, 1))"
   ]
  },
  {
   "cell_type": "code",
   "execution_count": null,
   "metadata": {},
   "outputs": [],
   "source": []
  },
  {
   "cell_type": "code",
   "execution_count": 162,
   "metadata": {},
   "outputs": [
    {
     "name": "stdout",
     "output_type": "stream",
     "text": [
      " ARIMA(0,1,1)(0,0,2)[7] intercept 6633.880169059311\n",
      " ARIMA(0,1,1)(0,0,1)[7] intercept 6635.7401772824915\n",
      " ARIMA(1,1,1)(0,0,2)[7] intercept 6636.1087149197365\n",
      " ARIMA(0,1,1)(0,0,2)[7]           6637.793511931245\n",
      " ARIMA(0,1,2)(0,0,2)[7] intercept 6640.22472525722\n",
      " ARIMA(0,1,1)(0,0,3)[7] intercept 6640.928010429546\n",
      " ARIMA(0,1,1)(0,0,0)[7] intercept 6646.1480073896455\n",
      " ARIMA(0,1,1)(1,0,3)[7] intercept 6652.760958871001\n",
      " ARIMA(2,1,2)(3,0,2)[7] intercept 6661.527209530503\n",
      " ARIMA(1,1,0)(1,0,0)[7] intercept 6722.5401474956325\n"
     ]
    }
   ],
   "source": [
    "## print out the top 10 model iterations orders sorted by BIC\n",
    "top_arima_models_by_bic = []\n",
    "top_number_models = 10\n",
    "\n",
    "for i, val in enumerate(sarima_auto[:top_number_models]):\n",
    "    print(val, val.bic())\n",
    "    top_arima_models_by_bic.append(val)"
   ]
  },
  {
   "cell_type": "markdown",
   "metadata": {},
   "source": [
    "## NOTES FOR CHOSING AN INITIAL SARIMAX FORECASTING MODEL\n",
    "* Be careful to identify that all comparable models are of the same differencing order, otherwise the BIC cannot be directly compared\n",
    "\n",
    "* We noted earlier in the ACF and PACF that the autoregressive component stays significant for quite a long period, thus, out of the top models, we will likely favour models which have an AR component initially (provided the BIC is not substantially different). Ultimately, the chosen models should be compared in terms of their predictive strength in multiple sub-samples in terms of RMSE / MAE etc.\n",
    "\n",
    "* We also note that the PACF which showed strong 7x multiple lags (same days affecting the same days from week to week, E.g. Sunday to Sunday) is reflected by the range (1-3) of MA terms in the seasonal part of the model. \n",
    "\n",
    "* The ACF plots also show very strong AC, so we will favour a model with a higher AR order to begin"
   ]
  },
  {
   "cell_type": "code",
   "execution_count": null,
   "metadata": {},
   "outputs": [],
   "source": []
  },
  {
   "cell_type": "code",
   "execution_count": 163,
   "metadata": {},
   "outputs": [
    {
     "data": {
      "text/plain": [
       "ARIMA(order=(2, 1, 2), scoring_args={}, seasonal_order=(3, 0, 2, 7),\n",
       "      suppress_warnings=True)"
      ]
     },
     "execution_count": 163,
     "metadata": {},
     "output_type": "execute_result"
    }
   ],
   "source": [
    "# fit the final model based of the specified SARIMA terms from the top_models_list \n",
    "\n",
    "# specify index of the chosen model\n",
    "model_interation_index = 8\n",
    "\n",
    "# fit the model iteration to the training data \n",
    "sarimax_auto_fitted = top_arima_models_by_bic[model_interation_index].fit(daily_postpb_train.sales)\n",
    "sarimax_auto_fitted"
   ]
  },
  {
   "cell_type": "code",
   "execution_count": null,
   "metadata": {},
   "outputs": [],
   "source": []
  },
  {
   "cell_type": "markdown",
   "metadata": {},
   "source": [
    "### WALK-FORWARD PREDICTION\n",
    "* Allow the prediction to be iteratively updated at each time step\n",
    "* This is primarily for research and testing purposes, as in reality, submitted forecasts should be finalised for 1M periods in advance and are not changable (in the absence of extreme events) \n",
    "    * The subsequent \"static\" forecast will be the focus / comparable forecast to be used in the final evaulation "
   ]
  },
  {
   "cell_type": "code",
   "execution_count": 23,
   "metadata": {
    "scrolled": false
   },
   "outputs": [
    {
     "name": "stdout",
     "output_type": "stream",
     "text": [
      " ARIMA TERMS: (2, 1, 2) \n",
      " SEASONAL TERMS: (3, 0, 2, 7)\n",
      "Wall time: 1min 6s\n"
     ]
    }
   ],
   "source": [
    "%%time\n",
    "warnings.filterwarnings(\"ignore\") \n",
    "\n",
    "# set the orders to the optimised orders from the auto-sarimax & print for convenience \n",
    "ar_order = sarimax_auto_fitted.order\n",
    "s_order = sarimax_auto_fitted.seasonal_order\n",
    "print(\" ARIMA TERMS: {} \\n SEASONAL TERMS: {}\".format(ar_order, s_order))\n",
    "\n",
    "# store the model predictions in a list\n",
    "yhat = []\n",
    "\n",
    "for i in range(len(daily_postb_test.sales)):\n",
    "    sales_train = daily_postbp_df[:len(daily_postpb_train) +i]\n",
    "    \n",
    "    model_sarimax = sm.tsa.statespace.SARIMAX(sales_train.sales, order=ar_order, seasonal_order=s_order,\n",
    "                                             exog=sales_train.publichol)\n",
    "    \n",
    "    model_sarimax_fitted = model_sarimax.fit()\n",
    "    \n",
    "    # note: prediction passes in test DF exog values\n",
    "    model_sarimax_pred = model_sarimax_fitted.predict(start=len(sales_train), end=len(sales_train), dynamic=True,\n",
    "                                                     exog=daily_postb_test.publichol[i])\n",
    "    \n",
    "    yhat = yhat + [model_sarimax_pred]\n",
    "\n",
    "# concat the series of 1D walk-forward validation forecasts to get one continuous series of predictions    \n",
    "yhat = pd.concat(yhat)"
   ]
  },
  {
   "cell_type": "code",
   "execution_count": null,
   "metadata": {},
   "outputs": [],
   "source": []
  },
  {
   "cell_type": "code",
   "execution_count": 24,
   "metadata": {},
   "outputs": [
    {
     "data": {
      "image/png": "[encoded data removed]",
      "text/plain": [
       "<Figure size 720x432 with 1 Axes>"
      ]
     },
     "metadata": {},
     "output_type": "display_data"
    }
   ],
   "source": [
    "# plot the original data Vs. the walk-forard prediction in SARIMAX\n",
    "fig, ax = plt.subplots(1,1, figsize=(10,6))\n",
    "fig.suptitle(\"SARIMAX MODEL WALK-FORWARD PREDICTIONS - MODEL AR TERMS: {}, SEASONAL TERMS: {}\".format(\n",
    "sarimax_auto_fitted.order, sarimax_auto_fitted.seasonal_order))\n",
    "plt.plot(daily_postb_test.index, daily_postb_test.sales.values, label='Original Series')\n",
    "plt.plot(daily_postb_test.index, yhat.values, color='red', label='SARIMAX PREDICTION', linestyle=\"--\")\n",
    "plt.xticks(rotation='45')[::2]\n",
    "plt.legend(bbox_to_anchor=(1.30, 1), loc='upper right')\n",
    "plt.show();"
   ]
  },
  {
   "cell_type": "markdown",
   "metadata": {},
   "source": [
    "### SARIMAX WALK-FORWARD PREDICTION INSIGHTS\n",
    "\n",
    "#### RECALL: this model could not be used in reality, but it simply a broad oversight of how daily sales could be predicted if the values were allowed to be updated daily\n",
    "* The model seems to capture the weekend (seasonality 7D to 7D phenomena) reasonably well\n",
    "* However, it seems to consistenly overpredict the mid-week drops\n"
   ]
  },
  {
   "cell_type": "code",
   "execution_count": 31,
   "metadata": {},
   "outputs": [
    {
     "name": "stdout",
     "output_type": "stream",
     "text": [
      "Root Mean Squared Error (RMSE): 1205.0 \n",
      " -------------------------------------------------- \n",
      "\n",
      "Mean Absolute Percentage Error (MAPE): 3.48% \n",
      " -------------------------------------------------- \n",
      "\n",
      "Mean Absolute Erorr (MAE): 952.0 \n",
      " -------------------------------------------------- \n",
      "\n"
     ]
    }
   ],
   "source": [
    "## quick print model evaluation\n",
    "evaulate_model_forecast(daily_postb_test.sales.values, yhat.values)"
   ]
  },
  {
   "cell_type": "code",
   "execution_count": null,
   "metadata": {},
   "outputs": [],
   "source": []
  },
  {
   "cell_type": "code",
   "execution_count": null,
   "metadata": {},
   "outputs": [],
   "source": []
  },
  {
   "cell_type": "code",
   "execution_count": null,
   "metadata": {},
   "outputs": [],
   "source": []
  },
  {
   "cell_type": "markdown",
   "metadata": {},
   "source": [
    "<a id='static_sarimax'></a>\n",
    "\n",
    "## STATIC SARIMAX FORECAST\n",
    "\n",
    "* As previously mentioned, the ability to perform a walk-forward validation is not feasible in reality, as 1M forecasts must be submitted ahead of time to be passed to individual stores\n",
    "* Hence, we also should test how the model performs with 1M forward, static predictions that don't update with each day's previous values"
   ]
  },
  {
   "cell_type": "code",
   "execution_count": 174,
   "metadata": {},
   "outputs": [
    {
     "name": "stdout",
     "output_type": "stream",
     "text": [
      " ARIMA TERMS: (2, 1, 2) \n",
      " SEASONAL TERMS: (3, 0, 2, 7)\n"
     ]
    }
   ],
   "source": [
    "warnings.filterwarnings(\"ignore\") \n",
    "# static 1m forecast\n",
    "\n",
    "ar_order = sarimax_auto_fitted.order\n",
    "s_order = sarimax_auto_fitted.seasonal_order\n",
    "print(\" ARIMA TERMS: {} \\n SEASONAL TERMS: {}\".format(ar_order, s_order))\n",
    "   \n",
    "model_sarimax = sm.tsa.statespace.SARIMAX(daily_postpb_train.sales, \n",
    "                                          order=ar_order, \n",
    "                                          seasonal_order=s_order,\n",
    "                                          exog=daily_postpb_train.publichol)\n",
    "    \n",
    "model_sarimax_fitted = model_sarimax.fit()\n",
    "\n",
    "\n",
    "model_sarimax_fcast = model_sarimax_fitted.forecast(steps=30, exog=daily_postb_test.publichol)\n",
    "    "
   ]
  },
  {
   "cell_type": "code",
   "execution_count": 175,
   "metadata": {},
   "outputs": [
    {
     "data": {
      "image/png": "[encoded data removed]",
      "text/plain": [
       "<Figure size 720x432 with 1 Axes>"
      ]
     },
     "metadata": {},
     "output_type": "display_data"
    }
   ],
   "source": [
    "# graph static prediction vs real series\n",
    "fig, ax = plt.subplots(1,1, figsize=(10,6))\n",
    "fig.suptitle(\"SARIMAX MODEL STATIC PREDICTIONS - MODEL (ARIMA) TERMS: {}, SEASONAL TERMS: {}\".format(\n",
    "sarimax_auto_fitted.order, sarimax_auto_fitted.seasonal_order))\n",
    "plt.plot(daily_postb_test.index, daily_postb_test.sales.values, label='Original Series')\n",
    "plt.plot(daily_postb_test.index, model_sarimax_fcast[-30:], color='red', label='SARIMAX STATIC PREDICTION', linestyle=\"--\")\n",
    "plt.xticks(rotation='45')[::2]\n",
    "plt.legend(bbox_to_anchor=(1.35, 1), loc='upper right')\n",
    "plt.show();"
   ]
  },
  {
   "cell_type": "code",
   "execution_count": 189,
   "metadata": {},
   "outputs": [
    {
     "name": "stdout",
     "output_type": "stream",
     "text": [
      "Root Mean Squared Error (RMSE): 1358.0 \n",
      " -------------------------------------------------- \n",
      "\n",
      "Mean Absolute Percentage Error (MAPE): 3.56% \n",
      " -------------------------------------------------- \n",
      "\n",
      "Mean Absolute Erorr (MAE): 1017.0 \n",
      " -------------------------------------------------- \n",
      "\n"
     ]
    }
   ],
   "source": [
    "## quick print model evaluation\n",
    "evaulate_model_forecast(model_sarimax_fcast, daily_postb_test['sales'])"
   ]
  },
  {
   "cell_type": "code",
   "execution_count": 238,
   "metadata": {},
   "outputs": [],
   "source": [
    "# store the results in a dictionary using the above defined evaulation function\n",
    "model_results_dict['static_sarimax'] = store_model_forecast(model_sarimax_fcast, \n",
    "                                                            daily_postb_test['sales'],\n",
    "                                                           just_mape=True)"
   ]
  },
  {
   "cell_type": "code",
   "execution_count": null,
   "metadata": {},
   "outputs": [],
   "source": []
  },
  {
   "cell_type": "markdown",
   "metadata": {},
   "source": [
    "## BRIEF TAKEAWAYS ON THE SARIMAX: STATIC VS WALK FORWARD\n",
    "* Most notably, the walkforward procedure only provides a very marginal increase in accuracy ~0.08% MAPE\n",
    "* One common weakness is that both models tend to over-estimate the mid-week lows\n",
    "* The static forecast generally does a good job in capturing the weekend seasonality"
   ]
  },
  {
   "cell_type": "code",
   "execution_count": null,
   "metadata": {},
   "outputs": [],
   "source": []
  },
  {
   "cell_type": "code",
   "execution_count": null,
   "metadata": {},
   "outputs": [],
   "source": []
  },
  {
   "cell_type": "code",
   "execution_count": null,
   "metadata": {},
   "outputs": [],
   "source": []
  },
  {
   "cell_type": "markdown",
   "metadata": {},
   "source": [
    "<a id='tbats'></a>\n",
    "\n",
    "## TBATS \n",
    "* A strong model for capturing multiple seasonalities, however, it cannot handle special exogenous variables that don't fit a usual pattern very well. \n",
    "* There is room for a hybrid model to use TBATS for non-holiday days, and use an ARIMAX model to capture the holiday/special event sales days accordingly\n",
    "\n",
    "\n",
    "#### We could experiment with solely using TBATS in months wherewe are forecasting a period that is without a public holiday (which represents roughly 5-6 months of each year) \n",
    "\n",
    "### PARAMETER EXPLANATION\n",
    "* T = trigonometric regressions to model multiple seasonalities \n",
    "* B = Box-Cox Transformations\n",
    "* A = ARMA errors\n",
    "* T = Trend\n",
    "* S = Seasonality \n",
    "\n",
    "\n",
    "* The TBATS is a time series model for modeling series which exhibit multiple complex seasonalities. \n",
    "* SOURCE:\n",
    "    * https://github.com/intive-DataScience/tbats"
   ]
  },
  {
   "cell_type": "code",
   "execution_count": 192,
   "metadata": {},
   "outputs": [],
   "source": [
    "from tbats import TBATS"
   ]
  },
  {
   "cell_type": "code",
   "execution_count": 193,
   "metadata": {},
   "outputs": [],
   "source": [
    "## based off PACF; load 2 seasonality periods \n",
    "tbats_estimator = TBATS(seasonal_periods=[7, 14])\n",
    "\n",
    "fitted_model_tbats = tbats_estimator.fit(daily_postpb_train.sales)"
   ]
  },
  {
   "cell_type": "code",
   "execution_count": null,
   "metadata": {},
   "outputs": [],
   "source": []
  },
  {
   "cell_type": "code",
   "execution_count": 194,
   "metadata": {},
   "outputs": [
    {
     "data": {
      "image/png": "[encoded data removed]",
      "text/plain": [
       "<Figure size 720x432 with 1 Axes>"
      ]
     },
     "metadata": {},
     "output_type": "display_data"
    }
   ],
   "source": [
    "# graph static prediction vs real series\n",
    "fig, ax = plt.subplots(1,1, figsize=(10,6))\n",
    "fig.suptitle(\"TBATS MODEL STATIC PREDICTIONS - 30D\")\n",
    "\n",
    "plt.plot(daily_postb_test.index, daily_postb_test.sales.values, label='Original Series')\n",
    "plt.plot(daily_postb_test.index, fitted_model_tbats.y_hat[-30:], color='red', label='TBATS STATIC PREDICTION', linestyle=\"--\")\n",
    "plt.xticks(rotation='45')[::2]\n",
    "plt.legend(bbox_to_anchor=(1.35, 1), loc='upper right')\n",
    "plt.show();"
   ]
  },
  {
   "cell_type": "code",
   "execution_count": null,
   "metadata": {},
   "outputs": [],
   "source": []
  },
  {
   "cell_type": "code",
   "execution_count": 195,
   "metadata": {},
   "outputs": [
    {
     "name": "stdout",
     "output_type": "stream",
     "text": [
      "Root Mean Squared Error (RMSE): 2601.0 \n",
      " -------------------------------------------------- \n",
      "\n",
      "Mean Absolute Percentage Error (MAPE): 7.14% \n",
      " -------------------------------------------------- \n",
      "\n",
      "Mean Absolute Erorr (MAE): 2131.0 \n",
      " -------------------------------------------------- \n",
      "\n"
     ]
    }
   ],
   "source": [
    "## quick print model evaluation\n",
    "evaulate_model_forecast(fitted_model_tbats.y_hat[-30:], daily_postb_test['sales'][-30:])"
   ]
  },
  {
   "cell_type": "code",
   "execution_count": 239,
   "metadata": {},
   "outputs": [],
   "source": [
    "# store the results in a dictionary using the above defined evaulation function\n",
    "model_results_dict['static_tbats'] = store_model_forecast(fitted_model_tbats.y_hat[-30:], \n",
    "                                                            daily_postb_test['sales'][-30:],\n",
    "                                                         just_mape=True)"
   ]
  },
  {
   "cell_type": "code",
   "execution_count": 211,
   "metadata": {},
   "outputs": [],
   "source": [
    "# uncomment to store all metrics for TBATS\n",
    "\n",
    "#model_results_dict['static_tbats'] = {'MSE': store_model_forecast(fitted_model_tbats.y_hat[-30:],  daily_postb_test['sales'][-30:])[0],\n",
    "#                             'MAPE': store_model_forecast(fitted_model_tbats.y_hat[-30:],  daily_postb_test['sales'][-30:])[1],\n",
    "#                             'MAE': store_model_forecast(fitted_model_tbats.y_hat[-30:],  daily_postb_test['sales'][-30:])[2]}"
   ]
  },
  {
   "cell_type": "code",
   "execution_count": null,
   "metadata": {},
   "outputs": [],
   "source": []
  },
  {
   "cell_type": "code",
   "execution_count": null,
   "metadata": {},
   "outputs": [],
   "source": []
  },
  {
   "cell_type": "code",
   "execution_count": null,
   "metadata": {},
   "outputs": [],
   "source": []
  },
  {
   "cell_type": "markdown",
   "metadata": {},
   "source": [
    "<a id='xgboost'></a>\n",
    "\n",
    "# XGBOOST (eXtreme Gradient Boosting)\n",
    "\n",
    "* In a nutshell, the XGBoost package will implement the gradient boosting decision tree algorithm. boosting is an ensemble technique where new models are added to correct the errors made by existing (previous) models, these models are added sequentially until no further improvements can be made. The gradient boosting refers to the approach in that new models aim to predict the residuals (errors) of prior models, and then are added together to make the final prediction; the gradient boosting gets its name from the fact it uses a gradient descent algorithm to minimise the loss when adding the newer models\n",
    "\n",
    "### Three types of parameters before running the XGBoost model:\n",
    "* General Parameters\n",
    "    * E.G. which booster to use: tree or linear model etc.\n",
    "* Boosting Parameters\n",
    "    * Parameter Explanations are available in the packages docs\n",
    "    * https://xgboost.readthedocs.io/en/latest/tutorials/model.html\n",
    "* Learning Task Parameters:\n",
    "    * which depend on the learning scenario, E.G. regression taks may use different criteria to evaulate their accuracy vs classification problems etc. \n",
    "\n",
    "    \n",
    "    \n"
   ]
  },
  {
   "cell_type": "code",
   "execution_count": 1,
   "metadata": {},
   "outputs": [],
   "source": [
    "# may need to pip install xgboost \n",
    "import xgboost as xgb\n",
    "from sklearn.model_selection import GridSearchCV\n",
    "from xgboost.sklearn import XGBClassifier\n",
    "from matplotlib import pyplot\n",
    "from sklearn.preprocessing import MinMaxScaler, StandardScaler\n",
    "from xgboost import plot_importance"
   ]
  },
  {
   "cell_type": "code",
   "execution_count": 56,
   "metadata": {},
   "outputs": [],
   "source": [
    "# read pickle files [optional if not already executed above]\n",
    "daily_postpb_train = pd.read_pickle(\"./daily_postpb_train.pkl\") \n",
    "daily_postb_test = pd.read_pickle(\"./daily_postb_test.pkl\") "
   ]
  },
  {
   "cell_type": "code",
   "execution_count": null,
   "metadata": {},
   "outputs": [],
   "source": []
  },
  {
   "cell_type": "code",
   "execution_count": null,
   "metadata": {},
   "outputs": [],
   "source": []
  },
  {
   "cell_type": "markdown",
   "metadata": {},
   "source": [
    "<a id='feature_engineering'></a>\n",
    "\n",
    "## FEATURE ENGINEERING \n",
    "\n",
    "\n",
    "### Create Time-Series Features & Filter DF to simplify for un-needed model inputs in the subsequent models \n",
    "* It might be tempting to include \"baskets\" which would give an incredibly accurate forecast, however, this would overlook the fact that an out-of-sample forecast will not have an accurate value for \"baskets\" (transactions) and thus, this model would not perform well out of sample. "
   ]
  },
  {
   "cell_type": "code",
   "execution_count": 64,
   "metadata": {},
   "outputs": [],
   "source": [
    "## restrict to just necessary univariate sales + exog variable publichol\n",
    "train_df_x = daily_postpb_train[['sales','publichol']]\n",
    "test_df_x = daily_postb_test[['sales','publichol']]"
   ]
  },
  {
   "cell_type": "code",
   "execution_count": null,
   "metadata": {},
   "outputs": [],
   "source": []
  },
  {
   "cell_type": "markdown",
   "metadata": {},
   "source": [
    "### ADD TIME SERIES FEATURES\n",
    "* Dayofweek\n",
    "* Weekofyear\n",
    "* \"days_since_hol\" (days since last public holiday) - [NOT USED AFTER ITERATION]\n",
    "* \"days_until_hol\" (days until the next public holiday) [NOT USED AFTER ITERATION]\n",
    "* \"weekend_bool\" - deemed obsolete next to dayofweek [NOT USED AFTER ITERATION]\n",
    "\n",
    "\n",
    "#### OTHER OPTIONS NOT USED IN THE 30D FORECAST DUE TO TIME HORIZON BEING TOO SMALL\n",
    "* Month, Quarter, Year Etc.\n",
    "* hourly Data is not available past 7 days, thus no sine/cosine transformations"
   ]
  },
  {
   "cell_type": "code",
   "execution_count": null,
   "metadata": {},
   "outputs": [],
   "source": []
  },
  {
   "cell_type": "code",
   "execution_count": 65,
   "metadata": {},
   "outputs": [],
   "source": [
    "# function to quickly construct some time series features\n",
    "\n",
    "def construct_time_features(df,target=None):\n",
    "    \"\"\" Creates a host of time series features from a datetime index, \n",
    "    moves the \"target\" variable into a seperate series when called \"\"\"\n",
    "    \n",
    "    # specify a date variable (which is the index of this DF; else, can call reset_index() first)\n",
    "    df['date'] = df.index\n",
    "    \n",
    "    # using datetime package, extract various time features relating to the (daily) base-level data\n",
    "    df['dayofweek'] = df['date'].dt.dayofweek\n",
    "    \n",
    "    #df['dayofmonth'] = df['date'].dt.day\n",
    "    df['weekofyear'] = df['date'].dt.weekofyear\n",
    "    \n",
    "    ## ==  other potential options - not relevant if the sample period is too short == ##\n",
    "    #df['month'] = df['date'].dt.month\n",
    "    #df['dayofyear'] = df['date'].dt.dayofyear\n",
    "    #df['quarter'] = df['date'].dt.quarter\n",
    "    #df['year'] = df['date'].dt.year\n",
    "    \n",
    "    # == useful if hourly data == # \n",
    "    ## note: the (sine, cosine) transformation of the time of day variable ensure that E.G. 0 and 23H are close to each other\n",
    "    #df['hour'] = df['date'].dt.hour\n",
    "    \n",
    "    #df['sin_day'] = np.sin(df['dayofyear'])\n",
    "    #df['cos_day'] = np.cos(df['dayofyear'])\n",
    "    \n",
    "    # drop the transient date column now the features are done\n",
    "    X = df.drop(['date'],axis=1)\n",
    "    \n",
    "    # E.G. if target=sales, move this target variable from the original DF, and specify it as 2nd parameter (y)\n",
    "    # this will effectively move it so it's own single-variable series when the function is called with target!= none\n",
    "    if target:\n",
    "        y = df[target]\n",
    "        X = X.drop([target],axis=1)\n",
    "        return X, y\n",
    "    \n",
    "    return X"
   ]
  },
  {
   "cell_type": "code",
   "execution_count": null,
   "metadata": {},
   "outputs": [],
   "source": []
  },
  {
   "cell_type": "code",
   "execution_count": 66,
   "metadata": {},
   "outputs": [],
   "source": [
    "# data / time series features to feed into models:\n",
    "scaled_train_df_x, y_train = construct_time_features(train_df_x, target='sales')\n",
    "scaled_test_df_x, y_test = construct_time_features(test_df_x, target='sales')"
   ]
  },
  {
   "cell_type": "code",
   "execution_count": 67,
   "metadata": {},
   "outputs": [
    {
     "data": {
      "text/html": [
       "<div>\n",
       "<style scoped>\n",
       "    .dataframe tbody tr th:only-of-type {\n",
       "        vertical-align: middle;\n",
       "    }\n",
       "\n",
       "    .dataframe tbody tr th {\n",
       "        vertical-align: top;\n",
       "    }\n",
       "\n",
       "    .dataframe thead th {\n",
       "        text-align: right;\n",
       "    }\n",
       "</style>\n",
       "<table border=\"1\" class=\"dataframe\">\n",
       "  <thead>\n",
       "    <tr style=\"text-align: right;\">\n",
       "      <th></th>\n",
       "      <th>publichol</th>\n",
       "      <th>dayofweek</th>\n",
       "      <th>weekofyear</th>\n",
       "    </tr>\n",
       "    <tr>\n",
       "      <th>datealternatekey</th>\n",
       "      <th></th>\n",
       "      <th></th>\n",
       "      <th></th>\n",
       "    </tr>\n",
       "  </thead>\n",
       "  <tbody>\n",
       "    <tr>\n",
       "      <th>2020-03-14</th>\n",
       "      <td>0</td>\n",
       "      <td>5</td>\n",
       "      <td>11</td>\n",
       "    </tr>\n",
       "    <tr>\n",
       "      <th>2020-03-15</th>\n",
       "      <td>0</td>\n",
       "      <td>6</td>\n",
       "      <td>11</td>\n",
       "    </tr>\n",
       "    <tr>\n",
       "      <th>2020-03-16</th>\n",
       "      <td>0</td>\n",
       "      <td>0</td>\n",
       "      <td>12</td>\n",
       "    </tr>\n",
       "    <tr>\n",
       "      <th>2020-03-17</th>\n",
       "      <td>0</td>\n",
       "      <td>1</td>\n",
       "      <td>12</td>\n",
       "    </tr>\n",
       "    <tr>\n",
       "      <th>2020-03-18</th>\n",
       "      <td>0</td>\n",
       "      <td>2</td>\n",
       "      <td>12</td>\n",
       "    </tr>\n",
       "    <tr>\n",
       "      <th>...</th>\n",
       "      <td>...</td>\n",
       "      <td>...</td>\n",
       "      <td>...</td>\n",
       "    </tr>\n",
       "    <tr>\n",
       "      <th>2021-02-17</th>\n",
       "      <td>0</td>\n",
       "      <td>2</td>\n",
       "      <td>7</td>\n",
       "    </tr>\n",
       "    <tr>\n",
       "      <th>2021-02-18</th>\n",
       "      <td>0</td>\n",
       "      <td>3</td>\n",
       "      <td>7</td>\n",
       "    </tr>\n",
       "    <tr>\n",
       "      <th>2021-02-19</th>\n",
       "      <td>0</td>\n",
       "      <td>4</td>\n",
       "      <td>7</td>\n",
       "    </tr>\n",
       "    <tr>\n",
       "      <th>2021-02-20</th>\n",
       "      <td>0</td>\n",
       "      <td>5</td>\n",
       "      <td>7</td>\n",
       "    </tr>\n",
       "    <tr>\n",
       "      <th>2021-02-21</th>\n",
       "      <td>0</td>\n",
       "      <td>6</td>\n",
       "      <td>7</td>\n",
       "    </tr>\n",
       "  </tbody>\n",
       "</table>\n",
       "<p>345 rows × 3 columns</p>\n",
       "</div>"
      ],
      "text/plain": [
       "                  publichol  dayofweek  weekofyear\n",
       "datealternatekey                                  \n",
       "2020-03-14                0          5          11\n",
       "2020-03-15                0          6          11\n",
       "2020-03-16                0          0          12\n",
       "2020-03-17                0          1          12\n",
       "2020-03-18                0          2          12\n",
       "...                     ...        ...         ...\n",
       "2021-02-17                0          2           7\n",
       "2021-02-18                0          3           7\n",
       "2021-02-19                0          4           7\n",
       "2021-02-20                0          5           7\n",
       "2021-02-21                0          6           7\n",
       "\n",
       "[345 rows x 3 columns]"
      ]
     },
     "execution_count": 67,
     "metadata": {},
     "output_type": "execute_result"
    }
   ],
   "source": [
    "#E.G. of training DF \n",
    "scaled_train_df_x"
   ]
  },
  {
   "cell_type": "code",
   "execution_count": null,
   "metadata": {},
   "outputs": [],
   "source": []
  },
  {
   "cell_type": "code",
   "execution_count": null,
   "metadata": {},
   "outputs": [],
   "source": []
  },
  {
   "cell_type": "markdown",
   "metadata": {},
   "source": [
    "###  NOTE ON SCALER TRANSFORMATION\n",
    "* Tried adding a scarse matrix representation for the \"publichol\" but this iteration was worse and hence reverted to \"mean=True\""
   ]
  },
  {
   "cell_type": "code",
   "execution_count": 68,
   "metadata": {},
   "outputs": [
    {
     "data": {
      "text/plain": [
       "StandardScaler()"
      ]
     },
     "execution_count": 68,
     "metadata": {},
     "output_type": "execute_result"
    }
   ],
   "source": [
    "# normalisation \n",
    "scaler = StandardScaler(with_mean=True)\n",
    "scaler.fit(scaled_train_df_x)"
   ]
  },
  {
   "cell_type": "code",
   "execution_count": 69,
   "metadata": {},
   "outputs": [],
   "source": [
    "X_train = scaler.transform(scaled_train_df_x)\n",
    "X_test = scaler.transform(scaled_test_df_x)"
   ]
  },
  {
   "cell_type": "code",
   "execution_count": 70,
   "metadata": {},
   "outputs": [],
   "source": [
    "X_train_df = pd.DataFrame(X_train, columns=scaled_train_df_x.columns)\n",
    "X_test_df = pd.DataFrame(X_test, columns=scaled_test_df_x.columns)"
   ]
  },
  {
   "cell_type": "code",
   "execution_count": 71,
   "metadata": {},
   "outputs": [
    {
     "data": {
      "text/html": [
       "<div>\n",
       "<style scoped>\n",
       "    .dataframe tbody tr th:only-of-type {\n",
       "        vertical-align: middle;\n",
       "    }\n",
       "\n",
       "    .dataframe tbody tr th {\n",
       "        vertical-align: top;\n",
       "    }\n",
       "\n",
       "    .dataframe thead th {\n",
       "        text-align: right;\n",
       "    }\n",
       "</style>\n",
       "<table border=\"1\" class=\"dataframe\">\n",
       "  <thead>\n",
       "    <tr style=\"text-align: right;\">\n",
       "      <th></th>\n",
       "      <th>publichol</th>\n",
       "      <th>dayofweek</th>\n",
       "      <th>weekofyear</th>\n",
       "    </tr>\n",
       "  </thead>\n",
       "  <tbody>\n",
       "    <tr>\n",
       "      <th>0</th>\n",
       "      <td>-0.22</td>\n",
       "      <td>0.99</td>\n",
       "      <td>-1.15</td>\n",
       "    </tr>\n",
       "    <tr>\n",
       "      <th>1</th>\n",
       "      <td>-0.22</td>\n",
       "      <td>1.49</td>\n",
       "      <td>-1.15</td>\n",
       "    </tr>\n",
       "    <tr>\n",
       "      <th>2</th>\n",
       "      <td>-0.22</td>\n",
       "      <td>-1.50</td>\n",
       "      <td>-1.09</td>\n",
       "    </tr>\n",
       "    <tr>\n",
       "      <th>3</th>\n",
       "      <td>-0.22</td>\n",
       "      <td>-1.01</td>\n",
       "      <td>-1.09</td>\n",
       "    </tr>\n",
       "    <tr>\n",
       "      <th>4</th>\n",
       "      <td>-0.22</td>\n",
       "      <td>-0.51</td>\n",
       "      <td>-1.09</td>\n",
       "    </tr>\n",
       "  </tbody>\n",
       "</table>\n",
       "</div>"
      ],
      "text/plain": [
       "   publichol  dayofweek  weekofyear\n",
       "0      -0.22       0.99       -1.15\n",
       "1      -0.22       1.49       -1.15\n",
       "2      -0.22      -1.50       -1.09\n",
       "3      -0.22      -1.01       -1.09\n",
       "4      -0.22      -0.51       -1.09"
      ]
     },
     "execution_count": 71,
     "metadata": {},
     "output_type": "execute_result"
    }
   ],
   "source": [
    "X_train_df.head()"
   ]
  },
  {
   "cell_type": "code",
   "execution_count": null,
   "metadata": {},
   "outputs": [],
   "source": []
  },
  {
   "cell_type": "code",
   "execution_count": null,
   "metadata": {},
   "outputs": [],
   "source": []
  },
  {
   "cell_type": "markdown",
   "metadata": {},
   "source": [
    "### DAYS SINCE / UNTIL NEXT PUBLIC HOLIDAY (NOT USED)\n",
    "* Public holidays were found to be too scarsely distributed for the variable to keep significance, also clustered holidays E.G. Easter were misrepresented by this feature; hence it was dropped after experimentation"
   ]
  },
  {
   "cell_type": "code",
   "execution_count": null,
   "metadata": {},
   "outputs": [],
   "source": [
    "# make a copy to test\n",
    "scaled_train_df_x_reset = scaled_train_df_x.copy()\n",
    "\n",
    "# move date to separate column for the days since/until holiday calculation\n",
    "scaled_train_df_x_reset = scaled_train_df_x_reset.reset_index()"
   ]
  },
  {
   "cell_type": "code",
   "execution_count": null,
   "metadata": {},
   "outputs": [],
   "source": [
    "# create a mask which replaces the initial (0) values with NaN\n",
    "mask = scaled_train_df_x_reset.publichol.cumsum().replace(0,False).astype(bool) \n",
    "\n",
    "# assign a new column labelled \"days_since_hol\" to be the cumcount() of days occured\n",
    "scaled_train_df_x_2 = scaled_train_df_x_reset.assign(days_since_hol=scaled_train_df_x_reset.groupby(\n",
    "    scaled_train_df_x_reset.publichol.astype(bool).cumsum()).cumcount().where(mask))"
   ]
  },
  {
   "cell_type": "code",
   "execution_count": null,
   "metadata": {},
   "outputs": [],
   "source": [
    "# restore the date as index \n",
    "scaled_train_df_x_2 = scaled_train_df_x_2.set_index('datealternatekey')"
   ]
  },
  {
   "cell_type": "code",
   "execution_count": null,
   "metadata": {},
   "outputs": [],
   "source": []
  },
  {
   "cell_type": "markdown",
   "metadata": {},
   "source": [
    "### WEEKEND BOOLEAN VARIABLE (NOT USED)\n",
    "* Found to be obsolete vs. the dayoftheweek variable"
   ]
  },
  {
   "cell_type": "code",
   "execution_count": 86,
   "metadata": {},
   "outputs": [],
   "source": [
    "## == [NOT INCLUDED IN FINAL MODEL] - ITERATION WAS UNSUCCESSFUL  == ## \n",
    "\n",
    "# add a weekend indicator to the dayofweek to attempt to correct the underfitting of weekends \n",
    "#scaled_train_df_x['weekend'] = scaled_train_df_x.dayofweek.apply(lambda x: 1 if x ==(5) or x ==(6) else 0)\n",
    "\n",
    "# repeat for test DF \n",
    "#scaled_test_df_x['weekend'] = scaled_test_df_x.dayofweek.apply(lambda x: 1 if x ==(5) or x ==(6) else 0)"
   ]
  },
  {
   "cell_type": "code",
   "execution_count": null,
   "metadata": {},
   "outputs": [],
   "source": []
  },
  {
   "cell_type": "code",
   "execution_count": null,
   "metadata": {},
   "outputs": [],
   "source": []
  },
  {
   "cell_type": "markdown",
   "metadata": {},
   "source": [
    "<a id='xgboost_param_tuning'></a>\n",
    "\n",
    "# XGBOOST\n",
    "\n",
    "## GENERAL APPROACH TO PARAMETER TUNING IN XGBOOST\n",
    "\n",
    "* objective = \"regression\" and \"squared error\" thus denoted: \"reg:squarederror\"\n",
    "\n",
    "* 1) Tune the learning rate (starting from a relatively higher point ~ 0.5); can use the XGBoost package's function called \"cv\" which can return the optimum number of required trees by performing cross validation at each iteration\n",
    "    * Refers to the step size shrinkage used in update to prevent overfitting; the learning rate shrinks the feature weights (after each boosting step, directly get the weights of the new features) to make the boosting process more conservative \n",
    "\n",
    "\n",
    "* 2) Tune tree-specific parameters for the decided learning rate and number of trees:\n",
    "    * min_child_weight\n",
    "        * minimum sum of instance weight needed in a child; if a partitioning step in a tree results in a leaf node with the sum of the instance weight being less than the min_child_weight specified value, the building process will cease further partitioning. The larger the value, the more conservative the algorithm. \n",
    "            * the smaller the value, the leaf nodes can have smaller sized groups \n",
    "    * max_depth\n",
    "        * Increasing this value makes a model more complex and consequently, more likely to overfit\n",
    "            * values range from (3-10); (4-6) is a good starting point\n",
    "    * gamma\n",
    "        * Minimum loss reduction required to make a futher partition on a leaf node of the tree; a larger gamma is a more conservative algorithm\n",
    "            * Starting value (0.1 - 0.2) \n",
    "    * subsample\n",
    "        * The subsample ratio of the training instances; subsampling occurs once in every boosting iteration, setting a value to 0.5 would randomly sample half of the training data prior to growing the trees- which would assist in preventing overfitting \n",
    "    * colsample_by_tree\n",
    "        * The subsample ratio of columns when constructing each tree\n",
    "            * Values range from (0.5 - 0.9)\n",
    "    \n",
    "    \n",
    "* 3) Tune regularisation parameters: performance improvements / reduction in model complexiy: Both are regularisation terms on weights, increasing either value will make the model more conservative \n",
    "    * alpha (L1) (labelled: 'reg_alpha') \n",
    "    * lambda (L2) (labelled: 'reg_lambda')\n",
    "    \n",
    "    \n",
    "* 4) Lower the learning rate and decide upon the optimal parameters for the model to be used in forecasting"
   ]
  },
  {
   "cell_type": "code",
   "execution_count": null,
   "metadata": {},
   "outputs": [],
   "source": []
  },
  {
   "cell_type": "markdown",
   "metadata": {},
   "source": [
    "## Tune \"max_deph\" and \"min_child_weight\" \n",
    "* NOTE: due to the large amount of potential models / tuning, the n_estimators will be temporarily lowered to 140 to reduce the computational time; depending on your system / available time, this parameter could be adjusted according "
   ]
  },
  {
   "cell_type": "code",
   "execution_count": 80,
   "metadata": {},
   "outputs": [
    {
     "name": "stdout",
     "output_type": "stream",
     "text": [
      "[11:40:51] WARNING: C:/Users/Administrator/workspace/xgboost-win64_release_1.3.0/src/learner.cc:1061: Starting in XGBoost 1.3.0, the default evaluation metric used with the objective 'multi:softprob' was changed from 'merror' to 'mlogloss'. Explicitly set eval_metric if you'd like to restore the old behavior.\n",
      "Wall time: 2min 18s\n"
     ]
    },
    {
     "data": {
      "text/plain": [
       "GridSearchCV(cv=5,\n",
       "             estimator=XGBClassifier(base_score=None, booster=None,\n",
       "                                     colsample_bylevel=None,\n",
       "                                     colsample_bynode=None,\n",
       "                                     colsample_bytree=0.8, gamma=0, gpu_id=None,\n",
       "                                     importance_type='gain',\n",
       "                                     interaction_constraints=None,\n",
       "                                     learning_rate=0.1, max_delta_step=None,\n",
       "                                     max_depth=5, min_child_weight=1,\n",
       "                                     missing=nan, monotone_constraints=None,\n",
       "                                     n_estimators=140, n_jobs=None,\n",
       "                                     num_parallel_tree=None,\n",
       "                                     objective='reg:squarederror',\n",
       "                                     random_state=None, reg_alpha=0,\n",
       "                                     reg_lambda=1, scale_pos_weight=None,\n",
       "                                     subsample=0.8, tree_method=None,\n",
       "                                     validate_parameters=None, verbosity=None),\n",
       "             n_jobs=-1,\n",
       "             param_grid={'max_depth': range(2, 10, 2),\n",
       "                         'min_child_weight': range(1, 6, 2)},\n",
       "             scoring='roc_auc')"
      ]
     },
     "execution_count": 80,
     "metadata": {},
     "output_type": "execute_result"
    }
   ],
   "source": [
    "%%time\n",
    "#Grid seach on subsample and min_child_weight (param_test_1)\n",
    "# first test will have a wider range of (2); e.g. min_child_weight = (1,3,5)\n",
    "\n",
    "param_test_1 = {\n",
    "    'max_depth':range(2,10,2),\n",
    "    'min_child_weight':range(1,6,2)}\n",
    "\n",
    "gsearch_1 = GridSearchCV(estimator = xgb.XGBClassifier(objective = 'reg:squarederror',\n",
    "                                n_estimators=140,\n",
    "                                learning_rate=0.1,\n",
    "                                min_child_weight=1,\n",
    "                                gamma=0,\n",
    "                                reg_lambda=1,\n",
    "                                reg_alpha=0,\n",
    "                                max_depth=5,\n",
    "                                subsample=0.8,\n",
    "                                colsample_bytree=0.8),\n",
    "                         param_grid = param_test_1, \n",
    "                         scoring='roc_auc', \n",
    "                         n_jobs=-1, \n",
    "                         cv=5)\n",
    "\n",
    "# note, seed default = 0\n",
    "gsearch_1.fit(X_train, y_train)"
   ]
  },
  {
   "cell_type": "code",
   "execution_count": 81,
   "metadata": {},
   "outputs": [
    {
     "data": {
      "text/plain": [
       "({'max_depth': 2, 'min_child_weight': 1}, nan)"
      ]
     },
     "execution_count": 81,
     "metadata": {},
     "output_type": "execute_result"
    }
   ],
   "source": [
    "# print grid-search (#1) optimisation best values \n",
    "gsearch_1.best_params_, gsearch_1.best_score_"
   ]
  },
  {
   "cell_type": "code",
   "execution_count": null,
   "metadata": {},
   "outputs": [],
   "source": []
  },
  {
   "cell_type": "markdown",
   "metadata": {},
   "source": [
    "## Further refine the step size to be more narrow at the lower end of the scale for each metric\n",
    "* NOTE: this could be combined with the first param_test_1 depending on your system"
   ]
  },
  {
   "cell_type": "code",
   "execution_count": 82,
   "metadata": {},
   "outputs": [
    {
     "name": "stdout",
     "output_type": "stream",
     "text": [
      "[11:43:20] WARNING: C:/Users/Administrator/workspace/xgboost-win64_release_1.3.0/src/learner.cc:1061: Starting in XGBoost 1.3.0, the default evaluation metric used with the objective 'multi:softprob' was changed from 'merror' to 'mlogloss'. Explicitly set eval_metric if you'd like to restore the old behavior.\n",
      "Wall time: 1min 10s\n"
     ]
    },
    {
     "data": {
      "text/plain": [
       "GridSearchCV(cv=5,\n",
       "             estimator=XGBClassifier(base_score=None, booster=None,\n",
       "                                     colsample_bylevel=None,\n",
       "                                     colsample_bynode=None,\n",
       "                                     colsample_bytree=0.8, gamma=0, gpu_id=None,\n",
       "                                     importance_type='gain',\n",
       "                                     interaction_constraints=None,\n",
       "                                     learning_rate=0.1, max_delta_step=None,\n",
       "                                     max_depth=5, min_child_weight=1,\n",
       "                                     min_split_loss=1, missing=nan,\n",
       "                                     monotone_constraints=None,\n",
       "                                     n_estimators=140, n_jobs=None,\n",
       "                                     num_parallel_tree=None,\n",
       "                                     objective='reg:squarederror',\n",
       "                                     random_state=None, reg_alpha=0,\n",
       "                                     reg_lambda=1, scale_pos_weight=None,\n",
       "                                     subsample=0.8, tree_method=None,\n",
       "                                     validate_parameters=None, verbosity=None),\n",
       "             n_jobs=-1,\n",
       "             param_grid={'max_depth': range(2, 5),\n",
       "                         'min_child_weight': range(1, 3)},\n",
       "             scoring='roc_auc')"
      ]
     },
     "execution_count": 82,
     "metadata": {},
     "output_type": "execute_result"
    }
   ],
   "source": [
    "%%time\n",
    "\n",
    "param_test_2 = {\n",
    "    'max_depth':range(2,5,1),\n",
    "    'min_child_weight':range(1,3,1)}\n",
    "\n",
    "gsearch_2 = GridSearchCV(estimator = xgb.XGBClassifier(objective = 'reg:squarederror',\n",
    "                                n_estimators=140,\n",
    "                                learning_rate=0.1,\n",
    "                                min_child_weight=1,\n",
    "                                gamma=0,\n",
    "                                reg_lambda=1,\n",
    "                                reg_alpha=0,\n",
    "                                max_depth=5,\n",
    "                                subsample=0.8,\n",
    "                                colsample_bytree=0.8),\n",
    "                         param_grid = param_test_2, \n",
    "                         scoring='roc_auc', \n",
    "                         n_jobs=-1, \n",
    "                         cv=5)\n",
    "\n",
    "gsearch_2.fit(X_train, y_train)"
   ]
  },
  {
   "cell_type": "code",
   "execution_count": 83,
   "metadata": {},
   "outputs": [
    {
     "data": {
      "text/plain": [
       "({'max_depth': 2, 'min_child_weight': 1}, nan)"
      ]
     },
     "execution_count": 83,
     "metadata": {},
     "output_type": "execute_result"
    }
   ],
   "source": [
    "# print grid-search (#2) optimisation best values \n",
    "gsearch_2.best_params_, gsearch_2.best_score_"
   ]
  },
  {
   "cell_type": "code",
   "execution_count": 84,
   "metadata": {},
   "outputs": [],
   "source": [
    "# define these variables from the outputed dictionary\n",
    "optimal_max_depth = list(gsearch_2.best_params_.values())[0]\n",
    "optimal_min_cw = list(gsearch_2.best_params_.values())[1]"
   ]
  },
  {
   "cell_type": "code",
   "execution_count": null,
   "metadata": {},
   "outputs": [],
   "source": []
  },
  {
   "cell_type": "code",
   "execution_count": null,
   "metadata": {},
   "outputs": [],
   "source": []
  },
  {
   "cell_type": "markdown",
   "metadata": {},
   "source": [
    "## Further tune \"min_child_weight\" \n",
    "* Check for the upper-range of values for this parameter, leaving max_depth fixed to its optimal value from above\n",
    "* A larger min_child_weight results in a more conservative algorithm"
   ]
  },
  {
   "cell_type": "code",
   "execution_count": 89,
   "metadata": {},
   "outputs": [
    {
     "name": "stdout",
     "output_type": "stream",
     "text": [
      "[11:47:16] WARNING: C:/Users/Administrator/workspace/xgboost-win64_release_1.3.0/src/learner.cc:1061: Starting in XGBoost 1.3.0, the default evaluation metric used with the objective 'multi:softprob' was changed from 'merror' to 'mlogloss'. Explicitly set eval_metric if you'd like to restore the old behavior.\n",
      "Wall time: 1min 7s\n"
     ]
    },
    {
     "data": {
      "text/plain": [
       "GridSearchCV(cv=5,\n",
       "             estimator=XGBClassifier(base_score=None, booster=None,\n",
       "                                     colsample_bylevel=None,\n",
       "                                     colsample_bynode=None,\n",
       "                                     colsample_bytree=0.8, gamma=0, gpu_id=None,\n",
       "                                     importance_type='gain',\n",
       "                                     interaction_constraints=None,\n",
       "                                     learning_rate=0.1, max_delta_step=None,\n",
       "                                     max_depth=2, min_child_weight=1,\n",
       "                                     min_split_loss=1, missing=nan,\n",
       "                                     monotone_constraints=None,\n",
       "                                     n_estimators=140, n_jobs=None,\n",
       "                                     num_parallel_tree=None,\n",
       "                                     objective='reg:squarederror',\n",
       "                                     random_state=None, reg_alpha=0,\n",
       "                                     reg_lambda=1, scale_pos_weight=None,\n",
       "                                     subsample=0.8, tree_method=None,\n",
       "                                     validate_parameters=None, verbosity=None),\n",
       "             n_jobs=4, param_grid={'min_child_weight': range(6, 12)},\n",
       "             scoring='roc_auc')"
      ]
     },
     "execution_count": 89,
     "metadata": {},
     "output_type": "execute_result"
    }
   ],
   "source": [
    "%%time\n",
    "param_test_2b = {\n",
    "    'min_child_weight':range(6,12,1)}\n",
    "\n",
    "gsearch_2b = GridSearchCV(estimator = xgb.XGBClassifier(objective = 'reg:squarederror',\n",
    "                                n_estimators=140,\n",
    "                                learning_rate=0.1,\n",
    "                                min_child_weight=optimal_min_cw,\n",
    "                                gamma=0,\n",
    "                                reg_lambda=1,\n",
    "                                reg_alpha=0,\n",
    "                                max_depth=optimal_max_depth,\n",
    "                                subsample=0.8,\n",
    "                                colsample_bytree=0.8),\n",
    "                         param_grid = param_test_2b, \n",
    "                         scoring='roc_auc', \n",
    "                         n_jobs=4, \n",
    "                         cv=5)\n",
    "\n",
    "gsearch_2b.fit(X_train, y_train)"
   ]
  },
  {
   "cell_type": "code",
   "execution_count": 90,
   "metadata": {},
   "outputs": [
    {
     "data": {
      "text/plain": [
       "({'min_child_weight': 6}, nan)"
      ]
     },
     "execution_count": 90,
     "metadata": {},
     "output_type": "execute_result"
    }
   ],
   "source": [
    "gsearch_2b.best_params_, gsearch_2b.best_score_"
   ]
  },
  {
   "cell_type": "code",
   "execution_count": 104,
   "metadata": {},
   "outputs": [],
   "source": [
    "# define the new optimal min_child_weight\n",
    "optimal_min_cw = list(gsearch_2b.best_params_.values())[0]"
   ]
  },
  {
   "cell_type": "code",
   "execution_count": null,
   "metadata": {},
   "outputs": [],
   "source": []
  },
  {
   "cell_type": "code",
   "execution_count": null,
   "metadata": {},
   "outputs": [],
   "source": []
  },
  {
   "cell_type": "markdown",
   "metadata": {},
   "source": [
    "## Tune optimal gamma \n",
    "* [OPTIONAL] - recalibrate the number of boosting rounds (n_estimators) from 140 to (250-1000), but this depends on your computing power available, once again\n",
    "* NOTE: if optimal gamma is != 0; refine the scale by making a smaller fraction (i/20) for instance"
   ]
  },
  {
   "cell_type": "code",
   "execution_count": 105,
   "metadata": {},
   "outputs": [
    {
     "name": "stdout",
     "output_type": "stream",
     "text": [
      "[11:52:15] WARNING: C:/Users/Administrator/workspace/xgboost-win64_release_1.3.0/src/learner.cc:1061: Starting in XGBoost 1.3.0, the default evaluation metric used with the objective 'multi:softprob' was changed from 'merror' to 'mlogloss'. Explicitly set eval_metric if you'd like to restore the old behavior.\n",
      "Wall time: 2min 2s\n"
     ]
    },
    {
     "data": {
      "text/plain": [
       "GridSearchCV(cv=5,\n",
       "             estimator=XGBClassifier(base_score=None, booster=None,\n",
       "                                     colsample_bylevel=None,\n",
       "                                     colsample_bynode=None,\n",
       "                                     colsample_bytree=0.8, gamma=0, gpu_id=None,\n",
       "                                     importance_type='gain',\n",
       "                                     interaction_constraints=None,\n",
       "                                     learning_rate=0.1, max_delta_step=None,\n",
       "                                     max_depth=2, min_child_weight=6,\n",
       "                                     min_split_loss=1, missing=nan,\n",
       "                                     monotone_constraints=None,\n",
       "                                     n_estimators=250, n_jobs=None,\n",
       "                                     num_parallel_tree=None,\n",
       "                                     objective='reg:squarederror',\n",
       "                                     random_state=None, reg_alpha=0,\n",
       "                                     reg_lambda=1, scale_pos_weight=None,\n",
       "                                     subsample=0.8, tree_method=None,\n",
       "                                     validate_parameters=None, verbosity=None),\n",
       "             n_jobs=-1, param_grid={'gamma': [0.0, 0.1, 0.2, 0.3, 0.4]},\n",
       "             scoring='roc_auc')"
      ]
     },
     "execution_count": 105,
     "metadata": {},
     "output_type": "execute_result"
    }
   ],
   "source": [
    "%%time\n",
    "param_test_3 = {\n",
    "    'gamma':[i/10 for i in range(0, 5, 1)]}\n",
    "\n",
    "gsearch_3 = GridSearchCV(estimator = xgb.XGBClassifier(objective = 'reg:squarederror',\n",
    "                                n_estimators=250,\n",
    "                                learning_rate=0.1,\n",
    "                                min_child_weight=optimal_min_cw,\n",
    "                                gamma=0,\n",
    "                                reg_lambda=1,\n",
    "                                reg_alpha=0,\n",
    "                                max_depth=optimal_max_depth,\n",
    "                                subsample=0.8,\n",
    "                                colsample_bytree=0.8),\n",
    "                         param_grid = param_test_3, \n",
    "                         scoring='roc_auc', \n",
    "                         n_jobs=-1, \n",
    "                         cv=5)\n",
    "\n",
    "gsearch_3.fit(X_train, y_train)"
   ]
  },
  {
   "cell_type": "code",
   "execution_count": 106,
   "metadata": {},
   "outputs": [
    {
     "data": {
      "text/plain": [
       "({'gamma': 0.0}, nan)"
      ]
     },
     "execution_count": 106,
     "metadata": {},
     "output_type": "execute_result"
    }
   ],
   "source": [
    "gsearch_3.best_params_, gsearch_3.best_score_"
   ]
  },
  {
   "cell_type": "code",
   "execution_count": 107,
   "metadata": {},
   "outputs": [],
   "source": [
    "# define the new optimal gamma\n",
    "optimal_gamma = list(gsearch_3.best_params_.values())[0]"
   ]
  },
  {
   "cell_type": "code",
   "execution_count": null,
   "metadata": {},
   "outputs": [],
   "source": []
  },
  {
   "cell_type": "code",
   "execution_count": null,
   "metadata": {},
   "outputs": [],
   "source": []
  },
  {
   "cell_type": "markdown",
   "metadata": {},
   "source": [
    "## Tune subsample and colsample_bytree in (2) stages\n",
    "* depending on your computational power, this step could be combined with the subsequent step for param_test_4b"
   ]
  },
  {
   "cell_type": "code",
   "execution_count": 108,
   "metadata": {},
   "outputs": [
    {
     "name": "stdout",
     "output_type": "stream",
     "text": [
      "[11:58:37] WARNING: C:/Users/Administrator/workspace/xgboost-win64_release_1.3.0/src/learner.cc:1061: Starting in XGBoost 1.3.0, the default evaluation metric used with the objective 'multi:softprob' was changed from 'merror' to 'mlogloss'. Explicitly set eval_metric if you'd like to restore the old behavior.\n",
      "Wall time: 4min 43s\n"
     ]
    },
    {
     "data": {
      "text/plain": [
       "GridSearchCV(cv=5,\n",
       "             estimator=XGBClassifier(base_score=None, booster=None,\n",
       "                                     colsample_bylevel=None,\n",
       "                                     colsample_bynode=None,\n",
       "                                     colsample_bytree=0.8, gamma=0.0,\n",
       "                                     gpu_id=None, importance_type='gain',\n",
       "                                     interaction_constraints=None,\n",
       "                                     learning_rate=0.1, max_delta_step=None,\n",
       "                                     max_depth=2, min_child_weight=6,\n",
       "                                     min_split_loss=1, missing=nan,\n",
       "                                     monotone_constraints=None,\n",
       "                                     n_estimators=140, n_jobs=None,\n",
       "                                     num_parallel_tree=None,\n",
       "                                     objective='reg:squarederror',\n",
       "                                     random_state=None, reg_alpha=0,\n",
       "                                     reg_lambda=1, scale_pos_weight=None,\n",
       "                                     subsample=0.8, tree_method=None,\n",
       "                                     validate_parameters=None, verbosity=None),\n",
       "             n_jobs=-1,\n",
       "             param_grid={'colsample_bytree': [0.5, 0.6, 0.7, 0.8, 0.9],\n",
       "                         'subsample': [0.5, 0.6, 0.7, 0.8, 0.9]},\n",
       "             scoring='roc_auc')"
      ]
     },
     "execution_count": 108,
     "metadata": {},
     "output_type": "execute_result"
    }
   ],
   "source": [
    "%%time\n",
    "\n",
    "param_test_4 = {\n",
    " 'subsample':[i/10.0 for i in range(5,10)],\n",
    " 'colsample_bytree':[i/10.0 for i in range(5,10)]}\n",
    "\n",
    "gsearch_4 = GridSearchCV(estimator = xgb.XGBClassifier(objective = 'reg:squarederror',\n",
    "                                n_estimators=140,\n",
    "                                learning_rate=0.1,\n",
    "                                min_child_weight=optimal_min_cw,\n",
    "                                gamma=optimal_gamma,\n",
    "                                reg_lambda=1,\n",
    "                                reg_alpha=0,\n",
    "                                max_depth=optimal_max_depth,\n",
    "                                subsample=0.8,\n",
    "                                colsample_bytree=0.8),\n",
    "                         param_grid = param_test_4, \n",
    "                         scoring='roc_auc', \n",
    "                         n_jobs=-1, \n",
    "                         cv=5)\n",
    "\n",
    "gsearch_4.fit(X_train, y_train)"
   ]
  },
  {
   "cell_type": "code",
   "execution_count": 109,
   "metadata": {},
   "outputs": [
    {
     "data": {
      "text/plain": [
       "({'colsample_bytree': 0.5, 'subsample': 0.5}, nan)"
      ]
     },
     "execution_count": 109,
     "metadata": {},
     "output_type": "execute_result"
    }
   ],
   "source": [
    "gsearch_4.best_params_, gsearch_4.best_score_"
   ]
  },
  {
   "cell_type": "code",
   "execution_count": null,
   "metadata": {},
   "outputs": [],
   "source": []
  },
  {
   "cell_type": "code",
   "execution_count": null,
   "metadata": {},
   "outputs": [],
   "source": []
  },
  {
   "cell_type": "markdown",
   "metadata": {},
   "source": [
    "### Refine a more narrow param test around the subsample and colsample_bytree variables\n",
    "* note: can either pass in the above dict and automatically specify a range; or do it manually depending on how refined you want to be when optimising the parameters\n",
    "    * Here, I opt to simply hard-code it in"
   ]
  },
  {
   "cell_type": "code",
   "execution_count": 122,
   "metadata": {},
   "outputs": [
    {
     "name": "stdout",
     "output_type": "stream",
     "text": [
      "[12:14:21] WARNING: C:/Users/Administrator/workspace/xgboost-win64_release_1.3.0/src/learner.cc:1061: Starting in XGBoost 1.3.0, the default evaluation metric used with the objective 'multi:softprob' was changed from 'merror' to 'mlogloss'. Explicitly set eval_metric if you'd like to restore the old behavior.\n",
      "Wall time: 8min 44s\n"
     ]
    },
    {
     "data": {
      "text/plain": [
       "GridSearchCV(cv=5,\n",
       "             estimator=XGBClassifier(base_score=None, booster=None,\n",
       "                                     colsample_bylevel=None,\n",
       "                                     colsample_bynode=None,\n",
       "                                     colsample_bytree=0.6, gamma=0.0,\n",
       "                                     gpu_id=None, importance_type='gain',\n",
       "                                     interaction_constraints=None,\n",
       "                                     learning_rate=0.1, max_delta_step=None,\n",
       "                                     max_depth=2, min_child_weight=6,\n",
       "                                     min_split_loss=1, missing=nan,\n",
       "                                     monotone_constraints=None,\n",
       "                                     n_estimators=140, n_jobs=None,\n",
       "                                     num_parallel_tree=None,\n",
       "                                     objective='reg:squarederror',\n",
       "                                     random_state=None, reg_alpha=0,\n",
       "                                     reg_lambda=1, scale_pos_weight=None,\n",
       "                                     subsample=0.6, tree_method=None,\n",
       "                                     validate_parameters=None, verbosity=None),\n",
       "             n_jobs=-1,\n",
       "             param_grid={'colsample_bytree': [0.2, 0.25, 0.3, 0.35, 0.4, 0.45,\n",
       "                                              0.5],\n",
       "                         'subsample': [0.2, 0.25, 0.3, 0.35, 0.4, 0.45, 0.5]},\n",
       "             scoring='roc_auc')"
      ]
     },
     "execution_count": 122,
     "metadata": {},
     "output_type": "execute_result"
    }
   ],
   "source": [
    "%%time\n",
    "\n",
    "# do a more narrow param test (0.05) intervals around the previously optimal value\n",
    "param_test_4b = {\n",
    " 'subsample':[i/100.0 for i in range(20,55,5)],\n",
    " 'colsample_bytree':[i/100.0 for i in range(20,55,5)]}\n",
    "\n",
    "gsearch_4b = GridSearchCV(estimator = xgb.XGBClassifier(objective = 'reg:squarederror',\n",
    "                                n_estimators=140,\n",
    "                                learning_rate=0.1,\n",
    "                                min_child_weight=optimal_min_cw,\n",
    "                                gamma=optimal_gamma,\n",
    "                                reg_lambda=1,\n",
    "                                reg_alpha=0,\n",
    "                                max_depth=optimal_max_depth,\n",
    "                                subsample=0.6,\n",
    "                                colsample_bytree=0.6),\n",
    "                         param_grid = param_test_4b, \n",
    "                         scoring='roc_auc', \n",
    "                         n_jobs=-1, \n",
    "                         cv=5)\n",
    "\n",
    "gsearch_4b.fit(X_train, y_train)"
   ]
  },
  {
   "cell_type": "code",
   "execution_count": 123,
   "metadata": {},
   "outputs": [
    {
     "data": {
      "text/plain": [
       "({'colsample_bytree': 0.2, 'subsample': 0.2}, nan)"
      ]
     },
     "execution_count": 123,
     "metadata": {},
     "output_type": "execute_result"
    }
   ],
   "source": [
    "gsearch_4b.best_params_, gsearch_4b.best_score_"
   ]
  },
  {
   "cell_type": "code",
   "execution_count": 124,
   "metadata": {},
   "outputs": [],
   "source": [
    "# define these variables from the outputed dictionary\n",
    "optimal_colsample_bytree = list(gsearch_4b.best_params_.values())[0]\n",
    "optimal_subsample = list(gsearch_4b.best_params_.values())[1]"
   ]
  },
  {
   "cell_type": "code",
   "execution_count": null,
   "metadata": {},
   "outputs": [],
   "source": []
  },
  {
   "cell_type": "code",
   "execution_count": null,
   "metadata": {},
   "outputs": [],
   "source": []
  },
  {
   "cell_type": "markdown",
   "metadata": {},
   "source": [
    "### Tune for the alpha param"
   ]
  },
  {
   "cell_type": "code",
   "execution_count": 119,
   "metadata": {},
   "outputs": [
    {
     "name": "stdout",
     "output_type": "stream",
     "text": [
      "[12:05:13] WARNING: C:/Users/Administrator/workspace/xgboost-win64_release_1.3.0/src/learner.cc:1061: Starting in XGBoost 1.3.0, the default evaluation metric used with the objective 'multi:softprob' was changed from 'merror' to 'mlogloss'. Explicitly set eval_metric if you'd like to restore the old behavior.\n",
      "Wall time: 1min 3s\n"
     ]
    },
    {
     "data": {
      "text/plain": [
       "GridSearchCV(cv=5,\n",
       "             estimator=XGBClassifier(base_score=None, booster=None,\n",
       "                                     colsample_bylevel=None,\n",
       "                                     colsample_bynode=None,\n",
       "                                     colsample_bytree=0.4, gamma=0.0,\n",
       "                                     gpu_id=None, importance_type='gain',\n",
       "                                     interaction_constraints=None,\n",
       "                                     learning_rate=0.1, max_delta_step=None,\n",
       "                                     max_depth=2, min_child_weight=6,\n",
       "                                     min_split_loss=1, missing=nan,\n",
       "                                     monotone_constraints=None,\n",
       "                                     n_estimators=140, n_jobs=None,\n",
       "                                     num_parallel_tree=None,\n",
       "                                     objective='reg:squarederror',\n",
       "                                     random_state=None, reg_alpha=0,\n",
       "                                     reg_lambda=1, scale_pos_weight=None,\n",
       "                                     subsample=0.4, tree_method=None,\n",
       "                                     validate_parameters=None, verbosity=None),\n",
       "             n_jobs=-1, param_grid={'reg_alpha': [1e-05, 0.01, 0.1, 1, 10]},\n",
       "             scoring='roc_auc')"
      ]
     },
     "execution_count": 119,
     "metadata": {},
     "output_type": "execute_result"
    }
   ],
   "source": [
    "%%time\n",
    "\n",
    "param_test_5 = {\n",
    " 'reg_alpha':[1e-5, 1e-2, 0.1, 1, 10]}\n",
    "\n",
    "\n",
    "gsearch_5 = GridSearchCV(estimator = xgb.XGBClassifier(objective = 'reg:squarederror',\n",
    "                                n_estimators=140,\n",
    "                                learning_rate=0.1,\n",
    "                                min_child_weight=optimal_min_cw,\n",
    "                                gamma=optimal_gamma,\n",
    "                                reg_lambda=1,\n",
    "                                reg_alpha=0,\n",
    "                                max_depth=optimal_max_depth,\n",
    "                                subsample=optimal_subsample,\n",
    "                                colsample_bytree=optimal_colsample_bytree),\n",
    "                         param_grid = param_test_5, \n",
    "                         scoring='roc_auc', \n",
    "                         n_jobs=-1, \n",
    "                         cv=5)\n",
    "\n",
    "gsearch_5.fit(X_train, y_train)"
   ]
  },
  {
   "cell_type": "code",
   "execution_count": 121,
   "metadata": {},
   "outputs": [
    {
     "data": {
      "text/plain": [
       "({'reg_alpha': 1e-05}, nan)"
      ]
     },
     "execution_count": 121,
     "metadata": {},
     "output_type": "execute_result"
    }
   ],
   "source": [
    "gsearch_5.best_params_, gsearch_5.best_score_"
   ]
  },
  {
   "cell_type": "code",
   "execution_count": null,
   "metadata": {},
   "outputs": [],
   "source": []
  },
  {
   "cell_type": "code",
   "execution_count": null,
   "metadata": {},
   "outputs": [],
   "source": []
  },
  {
   "cell_type": "markdown",
   "metadata": {},
   "source": [
    "## Further refine the alpha param with a more narrowed range around the previously optimal value \n",
    "* Note: hard-coded variable here given the variability of the output and user-preferences for the width of the range in further optimimsation "
   ]
  },
  {
   "cell_type": "code",
   "execution_count": 125,
   "metadata": {},
   "outputs": [
    {
     "name": "stdout",
     "output_type": "stream",
     "text": [
      "[12:15:37] WARNING: C:/Users/Administrator/workspace/xgboost-win64_release_1.3.0/src/learner.cc:1061: Starting in XGBoost 1.3.0, the default evaluation metric used with the objective 'multi:softprob' was changed from 'merror' to 'mlogloss'. Explicitly set eval_metric if you'd like to restore the old behavior.\n",
      "Wall time: 59.2 s\n"
     ]
    },
    {
     "data": {
      "text/plain": [
       "GridSearchCV(cv=5,\n",
       "             estimator=XGBClassifier(base_score=None, booster=None,\n",
       "                                     colsample_bylevel=None,\n",
       "                                     colsample_bynode=None,\n",
       "                                     colsample_bytree=0.2, gamma=0.0,\n",
       "                                     gpu_id=None, importance_type='gain',\n",
       "                                     interaction_constraints=None,\n",
       "                                     learning_rate=0.1, max_delta_step=None,\n",
       "                                     max_depth=2, min_child_weight=6,\n",
       "                                     min_split_loss=1, missing=nan,\n",
       "                                     monotone_constraints=None,\n",
       "                                     n_estimators=140, n_jobs=None,\n",
       "                                     num_parallel_tree=None,\n",
       "                                     objective='reg:squarederror',\n",
       "                                     random_state=None, reg_alpha=0,\n",
       "                                     reg_lambda=1, scale_pos_weight=None,\n",
       "                                     subsample=0.2, tree_method=None,\n",
       "                                     validate_parameters=None, verbosity=None),\n",
       "             n_jobs=-1, param_grid={'reg_alpha': [0, 0.001, 0.005, 0.01, 0.05]},\n",
       "             scoring='roc_auc')"
      ]
     },
     "execution_count": 125,
     "metadata": {},
     "output_type": "execute_result"
    }
   ],
   "source": [
    "%%time\n",
    "param_test_5b = {\n",
    " 'reg_alpha':[0, 0.001, 0.005, 0.01, 0.05]}\n",
    "\n",
    "gsearch_5b = GridSearchCV(estimator = xgb.XGBClassifier(objective = 'reg:squarederror',\n",
    "                                n_estimators=140,\n",
    "                                learning_rate=0.1,\n",
    "                                min_child_weight=optimal_min_cw,\n",
    "                                gamma=optimal_gamma,\n",
    "                                reg_lambda=1,\n",
    "                                reg_alpha=0,\n",
    "                                max_depth=optimal_max_depth,\n",
    "                                subsample=optimal_subsample,\n",
    "                                colsample_bytree=optimal_colsample_bytree),\n",
    "                         param_grid = param_test_5b, \n",
    "                         scoring='roc_auc', \n",
    "                         n_jobs=-1, \n",
    "                         cv=5)\n",
    "\n",
    "gsearch_5b.fit(X_train, y_train)"
   ]
  },
  {
   "cell_type": "code",
   "execution_count": 126,
   "metadata": {},
   "outputs": [
    {
     "data": {
      "text/plain": [
       "({'reg_alpha': 0}, nan)"
      ]
     },
     "execution_count": 126,
     "metadata": {},
     "output_type": "execute_result"
    }
   ],
   "source": [
    "gsearch_5b.best_params_, gsearch_5b.best_score_"
   ]
  },
  {
   "cell_type": "code",
   "execution_count": 127,
   "metadata": {},
   "outputs": [],
   "source": [
    "# define the optimal alpha \n",
    "optimal_alpha = list(gsearch_5b.best_params_.values())[0]"
   ]
  },
  {
   "cell_type": "code",
   "execution_count": null,
   "metadata": {},
   "outputs": [],
   "source": []
  },
  {
   "cell_type": "code",
   "execution_count": null,
   "metadata": {},
   "outputs": [],
   "source": []
  },
  {
   "cell_type": "markdown",
   "metadata": {},
   "source": [
    "## Tune the learning rate parameter "
   ]
  },
  {
   "cell_type": "code",
   "execution_count": 128,
   "metadata": {},
   "outputs": [
    {
     "name": "stdout",
     "output_type": "stream",
     "text": [
      "[12:17:32] WARNING: C:/Users/Administrator/workspace/xgboost-win64_release_1.3.0/src/learner.cc:1061: Starting in XGBoost 1.3.0, the default evaluation metric used with the objective 'multi:softprob' was changed from 'merror' to 'mlogloss'. Explicitly set eval_metric if you'd like to restore the old behavior.\n",
      "Wall time: 1min 18s\n"
     ]
    },
    {
     "data": {
      "text/plain": [
       "GridSearchCV(cv=5,\n",
       "             estimator=XGBClassifier(base_score=None, booster=None,\n",
       "                                     colsample_bylevel=None,\n",
       "                                     colsample_bynode=None,\n",
       "                                     colsample_bytree=0.2, gamma=0.0,\n",
       "                                     gpu_id=None, importance_type='gain',\n",
       "                                     interaction_constraints=None,\n",
       "                                     learning_rate=0.1, max_delta_step=None,\n",
       "                                     max_depth=2, min_child_weight=6,\n",
       "                                     min_split_loss=1, missing=nan,\n",
       "                                     monotone_constraints=None,\n",
       "                                     n_estimators=140, n_jobs=None,\n",
       "                                     num_parallel_tree=None,\n",
       "                                     objective='reg:squarederror',\n",
       "                                     random_state=None, reg_alpha=0,\n",
       "                                     reg_lambda=1, scale_pos_weight=None,\n",
       "                                     subsample=0.2, tree_method=None,\n",
       "                                     validate_parameters=None, verbosity=None),\n",
       "             n_jobs=-1,\n",
       "             param_grid={'learning_rate': [0.05, 0.1, 0.2, 0.3, 0.4, 0.5, 0.6]},\n",
       "             scoring='roc_auc')"
      ]
     },
     "execution_count": 128,
     "metadata": {},
     "output_type": "execute_result"
    }
   ],
   "source": [
    "%%time\n",
    "param_test_6 = {\n",
    " 'learning_rate':[0.05, 0.1, 0.2, 0.3, 0.4, 0.5, 0.6]}\n",
    "\n",
    "gsearch_6 = GridSearchCV(estimator = xgb.XGBClassifier(objective = 'reg:squarederror',\n",
    "                                n_estimators=140,\n",
    "                                learning_rate=0.1,\n",
    "                                min_child_weight=optimal_min_cw,\n",
    "                                gamma=optimal_gamma,\n",
    "                                reg_lambda=1,\n",
    "                                reg_alpha=optimal_alpha,\n",
    "                                max_depth=optimal_max_depth,\n",
    "                                subsample=optimal_subsample,\n",
    "                                colsample_bytree=optimal_colsample_bytree),\n",
    "                         param_grid = param_test_6, \n",
    "                         scoring='roc_auc', \n",
    "                         n_jobs=-1, \n",
    "                         cv=5)\n",
    "\n",
    "gsearch_6.fit(X_train, y_train)"
   ]
  },
  {
   "cell_type": "code",
   "execution_count": 129,
   "metadata": {},
   "outputs": [
    {
     "data": {
      "text/plain": [
       "({'learning_rate': 0.05}, nan)"
      ]
     },
     "execution_count": 129,
     "metadata": {},
     "output_type": "execute_result"
    }
   ],
   "source": [
    "gsearch_6.best_params_, gsearch_6.best_score_"
   ]
  },
  {
   "cell_type": "code",
   "execution_count": 130,
   "metadata": {},
   "outputs": [],
   "source": [
    "# define the optimal learning rate \n",
    "optimal_lr = list(gsearch_6.best_params_.values())[0]"
   ]
  },
  {
   "cell_type": "code",
   "execution_count": null,
   "metadata": {},
   "outputs": [],
   "source": []
  },
  {
   "cell_type": "code",
   "execution_count": null,
   "metadata": {},
   "outputs": [],
   "source": []
  },
  {
   "cell_type": "markdown",
   "metadata": {},
   "source": [
    "## TUNE REG LAMBDA"
   ]
  },
  {
   "cell_type": "code",
   "execution_count": 139,
   "metadata": {},
   "outputs": [
    {
     "name": "stdout",
     "output_type": "stream",
     "text": [
      "[12:24:54] WARNING: C:/Users/Administrator/workspace/xgboost-win64_release_1.3.0/src/learner.cc:1061: Starting in XGBoost 1.3.0, the default evaluation metric used with the objective 'multi:softprob' was changed from 'merror' to 'mlogloss'. Explicitly set eval_metric if you'd like to restore the old behavior.\n",
      "Wall time: 1min 4s\n"
     ]
    },
    {
     "data": {
      "text/plain": [
       "GridSearchCV(cv=5,\n",
       "             estimator=XGBClassifier(base_score=None, booster=None,\n",
       "                                     colsample_bylevel=None,\n",
       "                                     colsample_bynode=None,\n",
       "                                     colsample_bytree=0.2, gamma=0.0,\n",
       "                                     gpu_id=None, importance_type='gain',\n",
       "                                     interaction_constraints=None,\n",
       "                                     learning_rate=0.05, max_delta_step=None,\n",
       "                                     max_depth=2, min_child_weight=6,\n",
       "                                     missing=nan, monotone_constraints=None,\n",
       "                                     n_estimators=140, n_jobs=None,\n",
       "                                     num_parallel_tree=None,\n",
       "                                     objective='reg:squarederror',\n",
       "                                     random_state=None, reg_alpha=0,\n",
       "                                     reg_lambda=1, scale_pos_weight=None,\n",
       "                                     subsample=0.2, tree_method=None,\n",
       "                                     validate_parameters=None, verbosity=None),\n",
       "             n_jobs=-1, param_grid={'reg_lambda': [0.1, 0.5, 0.7, 1, 1.5]},\n",
       "             scoring='roc_auc')"
      ]
     },
     "execution_count": 139,
     "metadata": {},
     "output_type": "execute_result"
    }
   ],
   "source": [
    "%%time\n",
    "\n",
    "param_test_7 = {\n",
    " 'reg_lambda':[0.1, 0.5, 0.7, 1, 1.5]}\n",
    "\n",
    "gsearch_7 = GridSearchCV(estimator = xgb.XGBClassifier(objective = 'reg:squarederror',\n",
    "                                n_estimators=140,\n",
    "                                learning_rate=optimal_lr,\n",
    "                                min_child_weight=optimal_min_cw,\n",
    "                                gamma=optimal_gamma,\n",
    "                                reg_lambda=1,\n",
    "                                reg_alpha=optimal_alpha,\n",
    "                                max_depth=optimal_max_depth,\n",
    "                                subsample=optimal_subsample,\n",
    "                                colsample_bytree=optimal_colsample_bytree),\n",
    "                         param_grid = param_test_7, \n",
    "                         scoring='roc_auc', \n",
    "                         n_jobs=-1, \n",
    "                         cv=5)\n",
    "\n",
    "gsearch_7.fit(X_train, y_train)"
   ]
  },
  {
   "cell_type": "code",
   "execution_count": 140,
   "metadata": {},
   "outputs": [
    {
     "data": {
      "text/plain": [
       "({'reg_lambda': 0.1}, nan)"
      ]
     },
     "execution_count": 140,
     "metadata": {},
     "output_type": "execute_result"
    }
   ],
   "source": [
    "gsearch_7.best_params_, gsearch_7.best_score_"
   ]
  },
  {
   "cell_type": "code",
   "execution_count": 141,
   "metadata": {},
   "outputs": [],
   "source": [
    "# define the optimal learning rate \n",
    "optimal_reglam = list(gsearch_7.best_params_.values())[0]"
   ]
  },
  {
   "cell_type": "code",
   "execution_count": null,
   "metadata": {},
   "outputs": [],
   "source": []
  },
  {
   "cell_type": "code",
   "execution_count": null,
   "metadata": {},
   "outputs": [],
   "source": []
  },
  {
   "cell_type": "markdown",
   "metadata": {},
   "source": [
    "## FIT THE OPTIMISED PARAMETER MODEL \n",
    "* Then, use the model to predict future values on the test_df and plot / evaulate \n",
    "* Update the n_estimators now that the computational burden is less\n",
    "\n",
    "\n",
    "### in this instance for the 30D train-test split, the optimal parameters were:\n",
    "                                learning_rate=0.05,\n",
    "                                min_child_weight=6,\n",
    "                                gamma=0,\n",
    "                                reg_lambda=0.1,\n",
    "                                reg_alpha=0,\n",
    "                                max_depth=2,\n",
    "                                subsample=0.2,\n",
    "                                colsample_bytree=0.2,\n",
    "                                n_estimators=1000"
   ]
  },
  {
   "cell_type": "code",
   "execution_count": 142,
   "metadata": {},
   "outputs": [
    {
     "data": {
      "text/plain": [
       "XGBRegressor(base_score=0.5, booster='gbtree', colsample_bylevel=1,\n",
       "             colsample_bynode=1, colsample_bytree=0.2, gamma=0.0, gpu_id=-1,\n",
       "             importance_type='gain', interaction_constraints='',\n",
       "             learning_rate=0.05, max_delta_step=0, max_depth=2,\n",
       "             min_child_weight=6, missing=nan, monotone_constraints='()',\n",
       "             n_estimators=1000, n_jobs=8, num_parallel_tree=1, random_state=0,\n",
       "             reg_alpha=0, reg_lambda=0.1, scale_pos_weight=1, subsample=0.2,\n",
       "             tree_method='exact', validate_parameters=1, verbosity=None)"
      ]
     },
     "execution_count": 142,
     "metadata": {},
     "output_type": "execute_result"
    }
   ],
   "source": [
    "# try fitting optimal params\n",
    "xgboost_model = xgb.XGBRegressor(objective = 'reg:squarederror',\n",
    "                                n_estimators=1000,\n",
    "                                learning_rate=optimal_lr,\n",
    "                                min_child_weight=optimal_min_cw,\n",
    "                                gamma=optimal_gamma,\n",
    "                                reg_lambda=optimal_reglam,\n",
    "                                reg_alpha=optimal_alpha,\n",
    "                                max_depth=optimal_max_depth,\n",
    "                                subsample=optimal_subsample,\n",
    "                                colsample_bytree=optimal_colsample_bytree)\n",
    "\n",
    "xgboost_model.fit(X_train, y_train, verbose=True)"
   ]
  },
  {
   "cell_type": "code",
   "execution_count": null,
   "metadata": {},
   "outputs": [],
   "source": []
  },
  {
   "cell_type": "code",
   "execution_count": 156,
   "metadata": {},
   "outputs": [],
   "source": [
    "# create the prediction series from the model, now predicted on the test set\n",
    "yhat_xgboost = xgboost_model.predict(X_test)"
   ]
  },
  {
   "cell_type": "code",
   "execution_count": 157,
   "metadata": {},
   "outputs": [
    {
     "data": {
      "image/png": "[encoded data removed]",
      "text/plain": [
       "<Figure size 720x432 with 1 Axes>"
      ]
     },
     "metadata": {},
     "output_type": "display_data"
    }
   ],
   "source": [
    "# plot the forecast\n",
    "fig, ax = plt.subplots(1,1, figsize=(10,6))\n",
    "fig.suptitle(\"XGBoost {}D Forecast\".format(len(daily_postb_test)))\n",
    "plt.plot(test_df_x.index, test_df_x.sales.values, label='Original Series')\n",
    "plt.plot(test_df_x.index, yhat_xgboost, color='red', label='XGBoost Prediction', linestyle=\"--\")\n",
    "plt.xticks(rotation='35')[::2]\n",
    "plt.legend(bbox_to_anchor=(1.30, 1), loc='upper right')\n",
    "plt.show();"
   ]
  },
  {
   "cell_type": "code",
   "execution_count": null,
   "metadata": {},
   "outputs": [],
   "source": []
  },
  {
   "cell_type": "code",
   "execution_count": 159,
   "metadata": {},
   "outputs": [
    {
     "name": "stdout",
     "output_type": "stream",
     "text": [
      "Root Mean Squared Error (RMSE): 1051.0 \n",
      " -------------------------------------------------- \n",
      "\n",
      "Mean Absolute Percentage Error (MAPE): 2.99% \n",
      " -------------------------------------------------- \n",
      "\n",
      "Mean Absolute Erorr (MAE): 838.0 \n",
      " -------------------------------------------------- \n",
      "\n"
     ]
    }
   ],
   "source": [
    "# evaulate 4W model\n",
    "evaulate_model_forecast(yhat_xgboost[:28], test_df_x.sales.values[:28])"
   ]
  },
  {
   "cell_type": "code",
   "execution_count": 240,
   "metadata": {},
   "outputs": [],
   "source": [
    "# update model predictions params to dict:\n",
    "model_results_dict['XGboost'] = store_model_forecast(yhat_xgboost[:28], test_df_x.sales.values[:28],\n",
    "                                                    just_mape=True)"
   ]
  },
  {
   "cell_type": "code",
   "execution_count": 214,
   "metadata": {},
   "outputs": [],
   "source": [
    "# uncomment to save all metrics for XGboost to dictionary\n",
    "\n",
    "#model_results_dict['xgboost'] = {'MSE': store_model_forecast(yhat_xgboost[:28],  test_df_x.sales.values[:28])[0],\n",
    "#                             'MAPE': store_model_forecast(yhat_xgboost[:28],  test_df_x.sales.values[:28])[1],\n",
    "#                             'MAE': store_model_forecast(yhat_xgboost[:28],  test_df_x.sales.values[:28])[2]}"
   ]
  },
  {
   "cell_type": "code",
   "execution_count": null,
   "metadata": {},
   "outputs": [],
   "source": []
  },
  {
   "cell_type": "markdown",
   "metadata": {},
   "source": [
    "## XGBOOST BRIEF TAKEAWAYS\n",
    "* Model performs reasonably well, although it tends to either slightly underfit or overfit the mid-week drops\n",
    "* Model captures weekends quite well\n",
    "* Unsurprisingly, the model doesn't capture the final drop of the test set, this might be some form of exogenous shock and it is not feasible to assume the training data set is rich enough to account for these surprise exogenous shocks. \n",
    "* Even with the final low data point that isn't captured at all by the model, it still achieves a ~ 3% MAPE for a static 30D forecast, which is quite satisfactory considering the volatile retail climate of March 2021\n"
   ]
  },
  {
   "cell_type": "code",
   "execution_count": null,
   "metadata": {},
   "outputs": [],
   "source": []
  },
  {
   "cell_type": "code",
   "execution_count": null,
   "metadata": {},
   "outputs": [],
   "source": []
  },
  {
   "cell_type": "code",
   "execution_count": null,
   "metadata": {},
   "outputs": [],
   "source": []
  },
  {
   "cell_type": "markdown",
   "metadata": {},
   "source": [
    "<a id='xgboost_shap'></a>\n",
    "\n",
    "# FINAL MODEL RESULTS INSIGHTS & XGBOOST - FEATURE IMPORTANCE BREAKDOWN \n",
    "\n",
    "### BRIEF SUMMARY OF THE TABLES BELOW: \n",
    "* The 1st Summary Plot shows that \"weekofyear\" tends to - on average- exhibit the greatest mean impact on the model output; this is likely reflective of the upwards trend noted by the graphs at the start of this notebook. As each subsequent week progresses, the significance of the growing week number is indicative of the upwards growth trend visible in the 'sales' series.\n",
    "\n",
    "\n",
    "\n",
    "* The 2nd summary plot tells a more detailed story\n",
    "    * The 'weekofyear' has the highest degree of clustering above (0) (that is a positive impact on 'sales') which reflects the aforementioned upwards trend over time in the data. This adds strength to the above hypothesis, as on average, more weeks are on average above 0 then below, and the feature value of these above 0 observations is high.\n",
    "    * The 'dayofweek' is somewhat in-line with what we expect, there are two disinct (high feature value) positive observations which most likely reflect weekends; the two purple and red dots slightly below 0 is somewhat guess work but potentially reflects the late week (Thursday - Friday) phenomena. \n",
    "        * Additionally, the purple dot at the bottom of the spectrum, is likely the significant observation that Mondays are consistently the weakest day of sales week-after-week\n",
    "\n",
    "\n",
    "* The 'publichol' variable is interesting, in the first table, it is observed that the variable has an average positive impact, although when a day is not a public-holiday, the model reads this as having a slightly negative impact on sales; however, the net impact of the variable is positive because of the high feature-value red dot which represents when public holidays do arise: the sales of these days are often extreme and push the variable mean into positive territory.\n",
    "    * important to note that this is trained on the \"X_train_df' as not public holidays actuall fall in the \"test_df\" for this particular 30D train/test split "
   ]
  },
  {
   "cell_type": "code",
   "execution_count": 23,
   "metadata": {},
   "outputs": [],
   "source": [
    "# import shap package \n",
    "import shap"
   ]
  },
  {
   "cell_type": "code",
   "execution_count": 152,
   "metadata": {},
   "outputs": [],
   "source": [
    "# initiate a shap explainer instance from the above defined exgoobst model\n",
    "shap_values_2 = shap.TreeExplainer(xgboost_model).shap_values(X_train_df)"
   ]
  },
  {
   "cell_type": "code",
   "execution_count": 153,
   "metadata": {},
   "outputs": [
    {
     "data": {
      "image/png": "[encoded data removed]",
      "text/plain": [
       "<Figure size 576x194.4 with 1 Axes>"
      ]
     },
     "metadata": {},
     "output_type": "display_data"
    }
   ],
   "source": [
    "# plot the breakdown of each variables effect; using the explainer instance + training DF\n",
    "shap.summary_plot(shap_values_2, X_train_df, plot_type='bar')"
   ]
  },
  {
   "cell_type": "code",
   "execution_count": null,
   "metadata": {},
   "outputs": [],
   "source": []
  },
  {
   "cell_type": "code",
   "execution_count": 154,
   "metadata": {},
   "outputs": [
    {
     "data": {
      "image/png": "[encoded data removed]",
      "text/plain": [
       "<Figure size 576x194.4 with 2 Axes>"
      ]
     },
     "metadata": {},
     "output_type": "display_data"
    }
   ],
   "source": [
    "# breakdown futher with positive and negative relationships of each predictor with the target variable\n",
    "# also gives an insight into the feature value (strength of relationship) with the colour grade\n",
    "plt.figure()\n",
    "shap.summary_plot(shap_values_2, X_train_df)"
   ]
  },
  {
   "cell_type": "code",
   "execution_count": null,
   "metadata": {},
   "outputs": [],
   "source": []
  },
  {
   "cell_type": "markdown",
   "metadata": {},
   "source": [
    "### VISUALISE THE IMPACT OF EACH FEATURE ON A GIVEN (SINGLE) DAY"
   ]
  },
  {
   "cell_type": "code",
   "execution_count": 155,
   "metadata": {},
   "outputs": [
    {
     "data": {
      "image/png": "[encoded data removed]",
      "text/plain": [
       "<Figure size 576x216 with 3 Axes>"
      ]
     },
     "metadata": {},
     "output_type": "display_data"
    }
   ],
   "source": [
    "# visualise a particular day\n",
    "explainer = shap.Explainer(xgboost_model)\n",
    "shap_values_3 = explainer(X_train_df)\n",
    "shap.plots.waterfall(shap_values_3[2])"
   ]
  },
  {
   "cell_type": "markdown",
   "metadata": {},
   "source": [
    "* for any given day of the model too, we can visualise that individual days predictors contribution\n",
    "* thus, we  can see that the 'dayofweek' is likely mid-week and it is definitely not a public holiday\n",
    "* the weekofyear significance represents the upwards trend in the data nicely"
   ]
  },
  {
   "cell_type": "code",
   "execution_count": null,
   "metadata": {},
   "outputs": [],
   "source": []
  },
  {
   "cell_type": "code",
   "execution_count": null,
   "metadata": {},
   "outputs": [],
   "source": []
  },
  {
   "cell_type": "markdown",
   "metadata": {},
   "source": [
    "## FINAL MODEL COMPARISONS\n",
    "* All models show a considerable improvement over the naive forecast\n",
    "* Given the current iteration test sample didn't contain a public holiday, TBATS was expected to perform better\n",
    "* The static SARIMAX performed impressively well, almost as good as the XGboost but with a fraction of the time to implement the model \n",
    "    * Although, a human intervention was needed to select from the top models (AR / MA / SAR / SMA) terms based off the ACF/PACF plots\n",
    "* The XGBoost slightly outperforms the SARIMAX, although as just noted, it is significantly more intensive to establish\n",
    "    * It is worth noting that the XGBoost would be expected to significantly outperform at longer time horizons \n",
    "    * The next experimentive step is to forecast 1Q (3M) and compare again"
   ]
  },
  {
   "cell_type": "code",
   "execution_count": 243,
   "metadata": {},
   "outputs": [
    {
     "data": {
      "image/png": "[encoded data removed]",
      "text/plain": [
       "<Figure size 720x504 with 1 Axes>"
      ]
     },
     "metadata": {},
     "output_type": "display_data"
    }
   ],
   "source": [
    "# show values in bar graph \n",
    "plt.figure(figsize=(10, 7))\n",
    "keys = model_results_dict.keys()\n",
    "values = model_results_dict.values()\n",
    "plt.bar(keys, values)\n",
    "plt.xticks(rotation='45')\n",
    "plt.title(\"Time Series Forecasting Model MAPE Comparison for 4W Accuracy\");\n",
    "# note: MAPE = lower is better "
   ]
  },
  {
   "cell_type": "code",
   "execution_count": null,
   "metadata": {},
   "outputs": [],
   "source": []
  },
  {
   "cell_type": "code",
   "execution_count": null,
   "metadata": {},
   "outputs": [],
   "source": []
  }
 ],
 "metadata": {
  "kernelspec": {
   "display_name": "Python 3",
   "language": "python",
   "name": "python3"
  },
  "language_info": {
   "codemirror_mode": {
    "name": "ipython",
    "version": 3
   },
   "file_extension": ".py",
   "mimetype": "text/x-python",
   "name": "python",
   "nbconvert_exporter": "python",
   "pygments_lexer": "ipython3",
   "version": "3.8.5"
  }
 },
 "nbformat": 4,
 "nbformat_minor": 4
}
